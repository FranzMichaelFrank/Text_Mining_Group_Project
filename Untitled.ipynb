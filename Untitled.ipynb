{
 "cells": [
  {
   "cell_type": "code",
   "execution_count": 39,
   "id": "c1a956b2",
   "metadata": {},
   "outputs": [],
   "source": [
    "from word_mover_distance import model\n",
    "import torchtext.vocab as vocab\n",
    "import numpy as np\n",
    "import pandas as pd\n",
    "from tqdm.notebook import tqdm\n",
    "from scipy.stats import pearsonr\n",
    "from scipy.stats import kendalltau\n",
    "import re\n",
    "import matplotlib.pyplot as plt\n",
    "from nltk import download\n",
    "from nltk.corpus import stopwords\n",
    "import torch"
   ]
  },
  {
   "cell_type": "markdown",
   "id": "10186a93",
   "metadata": {},
   "source": [
    "# Load data"
   ]
  },
  {
   "cell_type": "code",
   "execution_count": 2,
   "id": "7f73439f",
   "metadata": {},
   "outputs": [],
   "source": [
    "path_corpus = \"/Users/philippmetzger/OneDrive/PHILIPP/NOVA IMS/2nd Semester/06 Text Mining 4 ECTS/00 Project/corpus/\"\n",
    "cs_en = pd.read_csv(path_corpus + \"cs-en/scores.csv\")\n",
    "de_en = pd.read_csv(path_corpus + \"de-en/scores.csv\")\n",
    "en_fi = pd.read_csv(path_corpus + \"en-fi/scores.csv\")\n",
    "en_zh = pd.read_csv(path_corpus + \"en-zh/scores.csv\")\n",
    "ru_en = pd.read_csv(path_corpus + \"ru-en/scores.csv\")\n",
    "zh_en = pd.read_csv(path_corpus + \"zh-en/scores.csv\")"
   ]
  },
  {
   "cell_type": "code",
   "execution_count": null,
   "id": "7754a46a",
   "metadata": {},
   "outputs": [],
   "source": [
    "descriptions = [\"Russian into English\", \"German into English\", \"Czech into English\", \"Chinese into English\", \"English into Chinese\", \"English into Finish\"]\n",
    "\n",
    "rows = []\n",
    "zscores = []\n",
    "avgscores = []\n",
    "annots = []\n",
    "\n",
    "i = 0\n",
    "\n",
    "for element in [ru_en, de_en, cs_en, zh_en, en_zh, en_fi]:\n",
    "    rows.append(element.shape[0])\n",
    "    zscores.append(np.round(element[\"z-score\"].mean(),2))\n",
    "    avgscores.append(np.round(element[\"avg-score\"].mean(), 2))\n",
    "    annots.append(np.round(element[\"annotators\"].mean(),2))\n",
    "    i += 1                   \n",
    "    \n",
    "exploration_df = pd.DataFrame([rows, zscores, avgscores, annots]).T.rename(columns={0:\"rows\", 1:\"avg z-score\", 2:\"avg avg-score\", 3:\"avg annotators\"})\n",
    "exploration_df[\"description\"] = descriptions\n",
    "exploration_df = exploration_df.set_index(\"description\")\n",
    "exploration_df"
   ]
  },
  {
   "cell_type": "markdown",
   "id": "3914fa94",
   "metadata": {},
   "source": [
    "# Naive implementation inspired by Word Mover's distance"
   ]
  },
  {
   "cell_type": "code",
   "execution_count": 41,
   "id": "d506810f",
   "metadata": {},
   "outputs": [],
   "source": [
    "def get_word(word):\n",
    "    return glove.vectors[glove.stoi[word]]"
   ]
  },
  {
   "cell_type": "code",
   "execution_count": null,
   "id": "15f596a1",
   "metadata": {},
   "outputs": [
    {
     "data": {
      "application/vnd.jupyter.widget-view+json": {
       "model_id": "7cbc838522e749e284117eacc2d222be",
       "version_major": 2,
       "version_minor": 0
      },
      "text/plain": [
       "  0%|          | 0/21704 [00:00<?, ?it/s]"
      ]
     },
     "metadata": {},
     "output_type": "display_data"
    }
   ],
   "source": [
    "distances = []\n",
    "\n",
    "for i in tqdm(range(de_en.shape[0])):\n",
    "    \n",
    "    over = False\n",
    "\n",
    "    a = de_en.iloc[i,1]\n",
    "    b = de_en.iloc[i,2]\n",
    "\n",
    "    a = a.lower()\n",
    "    a = re.sub(\"[^a-z]\", ' ', a)\n",
    "    a = a.split()\n",
    "\n",
    "    b = b.lower()\n",
    "    b = re.sub(\"[^a-z]\", ' ', b)\n",
    "    b = b.split()\n",
    "\n",
    "    #a = [word for word in a if word not in stop]\n",
    "    #b = [word for word in b if word not in stop]\n",
    "\n",
    "    len_pre_oov1 = len(a)\n",
    "    len_pre_oov2 = len(b)\n",
    "    a = [token for token in a if token in glove.itos]\n",
    "    b = [token for token in b if token in glove.itos]\n",
    "    diff1 = len_pre_oov1 - len(a)\n",
    "    diff2 = len_pre_oov2 - len(b)\n",
    "\n",
    "    if len(a) == 0 or len(b) == 0:\n",
    "        #print('At least one of the documents had no words that were in the vocabulary. Aborting (returning inf).')\n",
    "        dist = -1\n",
    "        over = True\n",
    "\n",
    "    if not over:\n",
    "        dist = 0\n",
    "        for word_a in a:\n",
    "            distances_this = []\n",
    "            for word_b in b:\n",
    "\n",
    "                distances_this.append(torch.dist(get_word(word_a), get_word(word_b)))\n",
    "\n",
    "            min_dist = min(distances_this)\n",
    "\n",
    "            dist += min_dist\n",
    "    \n",
    "    distances.append(dist)\n",
    "\n",
    "max_dist = max(distances)\n",
    "distances = [max_dist if dist == -1 else dist for dist in distances]"
   ]
  },
  {
   "cell_type": "code",
   "execution_count": null,
   "id": "d5c498d9",
   "metadata": {},
   "outputs": [],
   "source": [
    "pearsonr(de_en['avg-score'], distances)[0]"
   ]
  },
  {
   "cell_type": "code",
   "execution_count": null,
   "id": "1f88659c",
   "metadata": {},
   "outputs": [],
   "source": [
    "kendalltau(de_en['avg-score'], distances)[0]"
   ]
  },
  {
   "cell_type": "markdown",
   "id": "e6c4eed2",
   "metadata": {},
   "source": [
    "# Word mover's distance\n",
    "https://pypi.org/project/word-mover-distance/#description"
   ]
  },
  {
   "cell_type": "markdown",
   "id": "f9c5a997",
   "metadata": {},
   "source": [
    "## Load embedded model, convert it to a dictionary and pass it to word_mover_distance"
   ]
  },
  {
   "cell_type": "code",
   "execution_count": 3,
   "id": "668c04f8",
   "metadata": {},
   "outputs": [
    {
     "name": "stdout",
     "output_type": "stream",
     "text": [
      "Loaded 400000 words\n"
     ]
    }
   ],
   "source": [
    "glove = vocab.GloVe(name='6B', dim=50)\n",
    "print('Loaded {} words'.format(len(glove.itos)))"
   ]
  },
  {
   "cell_type": "code",
   "execution_count": 4,
   "id": "1ada251f",
   "metadata": {},
   "outputs": [],
   "source": [
    "glove_dict = {}\n",
    "\n",
    "for i in range(len(glove.vectors)):\n",
    "    glove_dict[glove.itos[i]] = glove.vectors[i].numpy()"
   ]
  },
  {
   "cell_type": "code",
   "execution_count": 5,
   "id": "85c427c9",
   "metadata": {},
   "outputs": [],
   "source": [
    "my_model = model.WordEmbedding(model=glove_dict)"
   ]
  },
  {
   "cell_type": "markdown",
   "id": "1dccbd72",
   "metadata": {},
   "source": [
    "## Test word_mover_distance"
   ]
  },
  {
   "cell_type": "code",
   "execution_count": 6,
   "id": "8df3a88c",
   "metadata": {},
   "outputs": [
    {
     "data": {
      "text/plain": [
       "1.8119693993679309"
      ]
     },
     "execution_count": 6,
     "metadata": {},
     "output_type": "execute_result"
    }
   ],
   "source": [
    "s1 = 'Obama speaks to the media in Chicago'.lower().split()\n",
    "s2 = 'The president spoke to the press in Chicago'.lower().split()\n",
    "wmdistance = my_model.wmdistance(s1, s2)\n",
    "wmdistance"
   ]
  },
  {
   "cell_type": "markdown",
   "id": "0f6767f1",
   "metadata": {},
   "source": [
    "1.8119693993679309"
   ]
  },
  {
   "cell_type": "markdown",
   "id": "fd41b39b",
   "metadata": {},
   "source": [
    "## Use word_mover_distance on our data"
   ]
  },
  {
   "cell_type": "markdown",
   "id": "a18f8bd1",
   "metadata": {},
   "source": [
    "### Version 1: With stopword removal"
   ]
  },
  {
   "cell_type": "code",
   "execution_count": 30,
   "id": "8cfa73cb",
   "metadata": {},
   "outputs": [],
   "source": [
    "stop = stopwords.words('english')"
   ]
  },
  {
   "cell_type": "code",
   "execution_count": 31,
   "id": "4ef62c36",
   "metadata": {},
   "outputs": [
    {
     "data": {
      "application/vnd.jupyter.widget-view+json": {
       "model_id": "b3f69340044340c58903f125a5ac0fa8",
       "version_major": 2,
       "version_minor": 0
      },
      "text/plain": [
       "  0%|          | 0/21704 [00:00<?, ?it/s]"
      ]
     },
     "metadata": {},
     "output_type": "display_data"
    }
   ],
   "source": [
    "data = de_en\n",
    "\n",
    "wmdistances = []\n",
    "\n",
    "for row in tqdm(range(data.shape[0])):\n",
    "    \n",
    "    s1 = data.iloc[row,1]\n",
    "    s2 = data.iloc[row,2]\n",
    "    \n",
    "    s1 = s1.lower()\n",
    "    s1 = re.sub(\"[^a-z]\", ' ', s1)\n",
    "    s1 = s1.split()\n",
    "    \n",
    "    s2 = s2.lower()\n",
    "    s2 = re.sub(\"[^a-z]\", ' ', s2)\n",
    "    s2 = s2.split()\n",
    "    \n",
    "    s1 = [word for word in s1 if word not in stop]\n",
    "    s2 = [word for word in s2 if word not in stop]\n",
    "    \n",
    "    wmdistance = my_model.wmdistance(s1, s2)\n",
    "    wmdistances.append(wmdistance)"
   ]
  },
  {
   "cell_type": "markdown",
   "id": "82436fbf",
   "metadata": {},
   "source": [
    "#### Replace inf values by maximum"
   ]
  },
  {
   "cell_type": "code",
   "execution_count": 32,
   "id": "7c93513f",
   "metadata": {},
   "outputs": [],
   "source": [
    "wmdistances2 = [-1 if dist == np.inf else dist for dist in wmdistances]\n",
    "max_dist = max(wmdistances2)\n",
    "wmdistances2 = [max_dist if dist == -1 else dist for dist in wmdistances2]"
   ]
  },
  {
   "cell_type": "code",
   "execution_count": 33,
   "id": "51c8d736",
   "metadata": {},
   "outputs": [
    {
     "data": {
      "text/plain": [
       "(-0.27926436711081465, 0.0)"
      ]
     },
     "execution_count": 33,
     "metadata": {},
     "output_type": "execute_result"
    }
   ],
   "source": [
    "pearsonr(de_en['avg-score'], wmdistances2)"
   ]
  },
  {
   "cell_type": "code",
   "execution_count": 34,
   "id": "0ead35f9",
   "metadata": {},
   "outputs": [
    {
     "data": {
      "text/plain": [
       "KendalltauResult(correlation=-0.20792525828577252, pvalue=0.0)"
      ]
     },
     "execution_count": 34,
     "metadata": {},
     "output_type": "execute_result"
    }
   ],
   "source": [
    "kendalltau(de_en['avg-score'], wmdistances2)"
   ]
  },
  {
   "cell_type": "markdown",
   "id": "9d9b00c7",
   "metadata": {},
   "source": [
    "#### Replace inf values by maximum/2"
   ]
  },
  {
   "cell_type": "code",
   "execution_count": 35,
   "id": "666573b8",
   "metadata": {},
   "outputs": [],
   "source": [
    "wmdistances2 = [-1 if dist == np.inf else dist for dist in wmdistances]\n",
    "\n",
    "wmdistances2 = [(max_dist/2) if dist == -1 else dist for dist in wmdistances2]"
   ]
  },
  {
   "cell_type": "code",
   "execution_count": 36,
   "id": "84b7606d",
   "metadata": {},
   "outputs": [
    {
     "data": {
      "text/plain": [
       "(-0.2931366960034692, 0.0)"
      ]
     },
     "execution_count": 36,
     "metadata": {},
     "output_type": "execute_result"
    }
   ],
   "source": [
    "pearsonr(de_en['avg-score'], wmdistances2)"
   ]
  },
  {
   "cell_type": "code",
   "execution_count": 37,
   "id": "6c11b461",
   "metadata": {},
   "outputs": [
    {
     "data": {
      "text/plain": [
       "KendalltauResult(correlation=-0.2081883157171871, pvalue=0.0)"
      ]
     },
     "execution_count": 37,
     "metadata": {},
     "output_type": "execute_result"
    }
   ],
   "source": [
    "kendalltau(de_en['avg-score'], wmdistances2)"
   ]
  },
  {
   "cell_type": "markdown",
   "id": "03a64f88",
   "metadata": {},
   "source": [
    "### Version 2: Without stopword removal"
   ]
  },
  {
   "cell_type": "code",
   "execution_count": 7,
   "id": "7dc5cf50",
   "metadata": {},
   "outputs": [
    {
     "data": {
      "application/vnd.jupyter.widget-view+json": {
       "model_id": "b5296afadd774b67821d1f2118de3359",
       "version_major": 2,
       "version_minor": 0
      },
      "text/plain": [
       "  0%|          | 0/21704 [00:00<?, ?it/s]"
      ]
     },
     "metadata": {},
     "output_type": "display_data"
    }
   ],
   "source": [
    "data = de_en\n",
    "\n",
    "wmdistances = []\n",
    "\n",
    "for row in tqdm(range(data.shape[0])):\n",
    "    \n",
    "    s1 = data.iloc[row,1]\n",
    "    s2 = data.iloc[row,2]\n",
    "    \n",
    "    s1 = s1.lower()\n",
    "    s1 = re.sub(\"[^a-z]\", ' ', s1)\n",
    "    s1 = s1.split()\n",
    "    \n",
    "    s2 = s2.lower()\n",
    "    s2 = re.sub(\"[^a-z]\", ' ', s2)\n",
    "    s2 = s2.split()\n",
    "    \n",
    "    wmdistance = my_model.wmdistance(s1, s2)\n",
    "    wmdistances.append(wmdistance)"
   ]
  },
  {
   "cell_type": "markdown",
   "id": "0f107438",
   "metadata": {},
   "source": [
    "#### Replace inf values by maximum"
   ]
  },
  {
   "cell_type": "code",
   "execution_count": 8,
   "id": "d24c2f25",
   "metadata": {},
   "outputs": [],
   "source": [
    "wmdistances2 = [-1 if dist == np.inf else dist for dist in wmdistances]\n",
    "max_dist = max(wmdistances2)\n",
    "wmdistances2 = [max_dist if dist == -1 else dist for dist in wmdistances2]"
   ]
  },
  {
   "cell_type": "code",
   "execution_count": 9,
   "id": "87feb3fa",
   "metadata": {},
   "outputs": [
    {
     "data": {
      "text/plain": [
       "(-0.30853318447232847, 0.0)"
      ]
     },
     "execution_count": 9,
     "metadata": {},
     "output_type": "execute_result"
    }
   ],
   "source": [
    "pearsonr(de_en['avg-score'], wmdistances2)"
   ]
  },
  {
   "cell_type": "code",
   "execution_count": 10,
   "id": "f1f50084",
   "metadata": {},
   "outputs": [
    {
     "data": {
      "text/plain": [
       "KendalltauResult(correlation=-0.2168328261851982, pvalue=0.0)"
      ]
     },
     "execution_count": 10,
     "metadata": {},
     "output_type": "execute_result"
    }
   ],
   "source": [
    "kendalltau(de_en['avg-score'], wmdistances2)"
   ]
  },
  {
   "cell_type": "markdown",
   "id": "81e3ebc6",
   "metadata": {},
   "source": [
    "#### Replace inf values by maximum/2"
   ]
  },
  {
   "cell_type": "code",
   "execution_count": 11,
   "id": "8f9be406",
   "metadata": {},
   "outputs": [],
   "source": [
    "wmdistances2 = [-1 if dist == np.inf else dist for dist in wmdistances]\n",
    "\n",
    "wmdistances2 = [(max_dist/2) if dist == -1 else dist for dist in wmdistances2]"
   ]
  },
  {
   "cell_type": "code",
   "execution_count": 12,
   "id": "e0205e20",
   "metadata": {},
   "outputs": [
    {
     "data": {
      "text/plain": [
       "(-0.30882340005334613, 0.0)"
      ]
     },
     "execution_count": 12,
     "metadata": {},
     "output_type": "execute_result"
    }
   ],
   "source": [
    "pearsonr(de_en['avg-score'], wmdistances2)"
   ]
  },
  {
   "cell_type": "code",
   "execution_count": 13,
   "id": "7c731e77",
   "metadata": {},
   "outputs": [
    {
     "data": {
      "text/plain": [
       "KendalltauResult(correlation=-0.2168229814123602, pvalue=0.0)"
      ]
     },
     "execution_count": 13,
     "metadata": {},
     "output_type": "execute_result"
    }
   ],
   "source": [
    "kendalltau(de_en['avg-score'], wmdistances2)"
   ]
  },
  {
   "cell_type": "code",
   "execution_count": null,
   "id": "e8e8c90c",
   "metadata": {},
   "outputs": [],
   "source": []
  },
  {
   "cell_type": "code",
   "execution_count": null,
   "id": "bdbf473b",
   "metadata": {},
   "outputs": [],
   "source": []
  }
 ],
 "metadata": {
  "kernelspec": {
   "display_name": "Python 3",
   "language": "python",
   "name": "python3"
  },
  "language_info": {
   "codemirror_mode": {
    "name": "ipython",
    "version": 3
   },
   "file_extension": ".py",
   "mimetype": "text/x-python",
   "name": "python",
   "nbconvert_exporter": "python",
   "pygments_lexer": "ipython3",
   "version": "3.8.8"
  }
 },
 "nbformat": 4,
 "nbformat_minor": 5
}
