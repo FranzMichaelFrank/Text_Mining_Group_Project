{
 "cells": [
  {
   "cell_type": "markdown",
   "id": "e042c1a8",
   "metadata": {},
   "source": [
    "# Imports and installs"
   ]
  },
  {
   "cell_type": "code",
   "execution_count": 1,
   "id": "48705004",
   "metadata": {},
   "outputs": [
    {
     "name": "stderr",
     "output_type": "stream",
     "text": [
      "/Users/philippmetzger/anaconda3/envs/tm_pip_3/lib/python3.8/site-packages/gensim/similarities/__init__.py:15: UserWarning: The gensim.similarities.levenshtein submodule is disabled, because the optional Levenshtein package <https://pypi.org/project/python-Levenshtein/> is unavailable. Install Levenhstein (e.g. `pip install python-Levenshtein`) to suppress this warning.\n",
      "  warnings.warn(msg)\n"
     ]
    }
   ],
   "source": [
    "from word_mover_distance import model\n",
    "import torchtext.vocab as vocab\n",
    "import numpy as np\n",
    "import pandas as pd\n",
    "from tqdm.notebook import tqdm\n",
    "from scipy.stats import pearsonr\n",
    "from scipy.stats import kendalltau\n",
    "import re\n",
    "import matplotlib.pyplot as plt\n",
    "from nltk import download\n",
    "from nltk.corpus import stopwords\n",
    "import torch\n",
    "import bert_score\n",
    "from torch.autograd import Variable\n",
    "import torch.nn.functional as F\n",
    "import matplotlib.pyplot as plt"
   ]
  },
  {
   "cell_type": "code",
   "execution_count": 2,
   "id": "c985c1f3",
   "metadata": {},
   "outputs": [],
   "source": [
    "#!pip install jieba\n",
    "#!pip install word-mover-distance"
   ]
  },
  {
   "cell_type": "code",
   "execution_count": 3,
   "id": "1a5c8b65",
   "metadata": {},
   "outputs": [],
   "source": [
    "import pandas as pd\n",
    "from tqdm.notebook import tqdm\n",
    "import re\n",
    "import numpy as np\n",
    "import matplotlib.pyplot as plt\n",
    "import torch\n",
    "from torch.autograd import Variable\n",
    "import torch.nn.functional as F\n",
    "import jieba\n",
    "from sklearn.model_selection import train_test_split"
   ]
  },
  {
   "cell_type": "markdown",
   "id": "fa2cd558",
   "metadata": {},
   "source": [
    "# Load and explore data"
   ]
  },
  {
   "cell_type": "code",
   "execution_count": 4,
   "id": "333013f8",
   "metadata": {},
   "outputs": [],
   "source": [
    "path_corpus = \"/Users/philippmetzger/OneDrive/PHILIPP/NOVA IMS/2nd Semester/06 Text Mining 4 ECTS/00 Project/corpus/\"\n",
    "cs_en = pd.read_csv(path_corpus + \"cs-en/scores.csv\")\n",
    "de_en = pd.read_csv(path_corpus + \"de-en/scores.csv\")\n",
    "en_fi = pd.read_csv(path_corpus + \"en-fi/scores.csv\")\n",
    "en_zh = pd.read_csv(path_corpus + \"en-zh/scores.csv\")\n",
    "ru_en = pd.read_csv(path_corpus + \"ru-en/scores.csv\")\n",
    "zh_en = pd.read_csv(path_corpus + \"zh-en/scores.csv\")"
   ]
  },
  {
   "cell_type": "code",
   "execution_count": 5,
   "id": "be09f86a",
   "metadata": {},
   "outputs": [
    {
     "data": {
      "text/html": [
       "<div>\n",
       "<style scoped>\n",
       "    .dataframe tbody tr th:only-of-type {\n",
       "        vertical-align: middle;\n",
       "    }\n",
       "\n",
       "    .dataframe tbody tr th {\n",
       "        vertical-align: top;\n",
       "    }\n",
       "\n",
       "    .dataframe thead th {\n",
       "        text-align: right;\n",
       "    }\n",
       "</style>\n",
       "<table border=\"1\" class=\"dataframe\">\n",
       "  <thead>\n",
       "    <tr style=\"text-align: right;\">\n",
       "      <th></th>\n",
       "      <th>source</th>\n",
       "      <th>reference</th>\n",
       "      <th>translation</th>\n",
       "      <th>z-score</th>\n",
       "      <th>avg-score</th>\n",
       "      <th>annotators</th>\n",
       "    </tr>\n",
       "  </thead>\n",
       "  <tbody>\n",
       "    <tr>\n",
       "      <th>0</th>\n",
       "      <td>Uchopíte pak zbraň mezi své předloktí a rameno...</td>\n",
       "      <td>You will then grab the weapon between your for...</td>\n",
       "      <td>You then grasp the gun between your forearm an...</td>\n",
       "      <td>-0.675383</td>\n",
       "      <td>60.0</td>\n",
       "      <td>3</td>\n",
       "    </tr>\n",
       "  </tbody>\n",
       "</table>\n",
       "</div>"
      ],
      "text/plain": [
       "                                              source  \\\n",
       "0  Uchopíte pak zbraň mezi své předloktí a rameno...   \n",
       "\n",
       "                                           reference  \\\n",
       "0  You will then grab the weapon between your for...   \n",
       "\n",
       "                                         translation   z-score  avg-score  \\\n",
       "0  You then grasp the gun between your forearm an... -0.675383       60.0   \n",
       "\n",
       "   annotators  \n",
       "0           3  "
      ]
     },
     "execution_count": 5,
     "metadata": {},
     "output_type": "execute_result"
    }
   ],
   "source": [
    "cs_en.head(1)"
   ]
  },
  {
   "cell_type": "code",
   "execution_count": 6,
   "id": "6b1caebc",
   "metadata": {},
   "outputs": [],
   "source": [
    "data_list = [cs_en, de_en, en_fi, en_zh, ru_en, zh_en]\n",
    "names_list = ['cs_en', 'de_en', 'en_fi', 'en_zh', 'ru_en', 'zh_en']\n",
    "text_columns_list = ['source', 'reference', 'translation']"
   ]
  },
  {
   "cell_type": "code",
   "execution_count": 7,
   "id": "812e5003",
   "metadata": {},
   "outputs": [
    {
     "data": {
      "text/html": [
       "<div>\n",
       "<style scoped>\n",
       "    .dataframe tbody tr th:only-of-type {\n",
       "        vertical-align: middle;\n",
       "    }\n",
       "\n",
       "    .dataframe tbody tr th {\n",
       "        vertical-align: top;\n",
       "    }\n",
       "\n",
       "    .dataframe thead th {\n",
       "        text-align: right;\n",
       "    }\n",
       "</style>\n",
       "<table border=\"1\" class=\"dataframe\">\n",
       "  <thead>\n",
       "    <tr style=\"text-align: right;\">\n",
       "      <th></th>\n",
       "      <th>rows</th>\n",
       "      <th>avg z-score</th>\n",
       "      <th>avg avg-score</th>\n",
       "      <th>avg annotators</th>\n",
       "    </tr>\n",
       "    <tr>\n",
       "      <th>description</th>\n",
       "      <th></th>\n",
       "      <th></th>\n",
       "      <th></th>\n",
       "      <th></th>\n",
       "    </tr>\n",
       "  </thead>\n",
       "  <tbody>\n",
       "    <tr>\n",
       "      <th>Russian into English</th>\n",
       "      <td>17980.0</td>\n",
       "      <td>0.01</td>\n",
       "      <td>74.50</td>\n",
       "      <td>1.30</td>\n",
       "    </tr>\n",
       "    <tr>\n",
       "      <th>German into English</th>\n",
       "      <td>21704.0</td>\n",
       "      <td>0.00</td>\n",
       "      <td>71.85</td>\n",
       "      <td>1.50</td>\n",
       "    </tr>\n",
       "    <tr>\n",
       "      <th>Czech into English</th>\n",
       "      <td>11585.0</td>\n",
       "      <td>-0.03</td>\n",
       "      <td>69.24</td>\n",
       "      <td>1.89</td>\n",
       "    </tr>\n",
       "    <tr>\n",
       "      <th>Chinese into English</th>\n",
       "      <td>26419.0</td>\n",
       "      <td>-0.05</td>\n",
       "      <td>66.06</td>\n",
       "      <td>1.42</td>\n",
       "    </tr>\n",
       "    <tr>\n",
       "      <th>English into Chinese</th>\n",
       "      <td>10221.0</td>\n",
       "      <td>-0.06</td>\n",
       "      <td>65.98</td>\n",
       "      <td>1.58</td>\n",
       "    </tr>\n",
       "    <tr>\n",
       "      <th>English into Finish</th>\n",
       "      <td>6748.0</td>\n",
       "      <td>-0.14</td>\n",
       "      <td>45.12</td>\n",
       "      <td>1.23</td>\n",
       "    </tr>\n",
       "  </tbody>\n",
       "</table>\n",
       "</div>"
      ],
      "text/plain": [
       "                         rows  avg z-score  avg avg-score  avg annotators\n",
       "description                                                              \n",
       "Russian into English  17980.0         0.01          74.50            1.30\n",
       "German into English   21704.0         0.00          71.85            1.50\n",
       "Czech into English    11585.0        -0.03          69.24            1.89\n",
       "Chinese into English  26419.0        -0.05          66.06            1.42\n",
       "English into Chinese  10221.0        -0.06          65.98            1.58\n",
       "English into Finish    6748.0        -0.14          45.12            1.23"
      ]
     },
     "execution_count": 7,
     "metadata": {},
     "output_type": "execute_result"
    }
   ],
   "source": [
    "descriptions = [\"Russian into English\", \"German into English\", \"Czech into English\", \"Chinese into English\", \"English into Chinese\", \"English into Finish\"]\n",
    "\n",
    "rows = []\n",
    "zscores = []\n",
    "avgscores = []\n",
    "annots = []\n",
    "\n",
    "i = 0\n",
    "\n",
    "for element in [ru_en, de_en, cs_en, zh_en, en_zh, en_fi]:\n",
    "    rows.append(element.shape[0])\n",
    "    zscores.append(np.round(element[\"z-score\"].mean(),2))\n",
    "    avgscores.append(np.round(element[\"avg-score\"].mean(), 2))\n",
    "    annots.append(np.round(element[\"annotators\"].mean(),2))\n",
    "    i += 1                   \n",
    "    \n",
    "exploration_df = pd.DataFrame([rows, zscores, avgscores, annots]).T.rename(columns={0:\"rows\", 1:\"avg z-score\", 2:\"avg avg-score\", 3:\"avg annotators\"})\n",
    "exploration_df[\"description\"] = descriptions\n",
    "exploration_df = exploration_df.set_index(\"description\")\n",
    "exploration_df"
   ]
  },
  {
   "cell_type": "markdown",
   "id": "ddb38e93",
   "metadata": {},
   "source": [
    "# Naive implementation inspired by Word Mover's distance"
   ]
  },
  {
   "cell_type": "code",
   "execution_count": 8,
   "id": "0d14ee65",
   "metadata": {},
   "outputs": [],
   "source": [
    "def get_word(word):\n",
    "    return glove.vectors[glove.stoi[word]]"
   ]
  },
  {
   "cell_type": "code",
   "execution_count": 9,
   "id": "95051de6",
   "metadata": {},
   "outputs": [
    {
     "name": "stdout",
     "output_type": "stream",
     "text": [
      "Loaded 400000 words\n"
     ]
    }
   ],
   "source": [
    "glove = vocab.GloVe(name='6B', dim=50)\n",
    "print('Loaded {} words'.format(len(glove.itos)))"
   ]
  },
  {
   "cell_type": "markdown",
   "id": "4724b925",
   "metadata": {},
   "source": [
    "## Test it on \"de_en\""
   ]
  },
  {
   "cell_type": "code",
   "execution_count": 10,
   "id": "18d18f67",
   "metadata": {},
   "outputs": [
    {
     "data": {
      "application/vnd.jupyter.widget-view+json": {
       "model_id": "80b7695c3b354738aa3b401c5ae515b9",
       "version_major": 2,
       "version_minor": 0
      },
      "text/plain": [
       "  0%|          | 0/21704 [00:00<?, ?it/s]"
      ]
     },
     "metadata": {},
     "output_type": "display_data"
    }
   ],
   "source": [
    "distances = []\n",
    "\n",
    "for i in tqdm(range(de_en.shape[0])):\n",
    "    \n",
    "    over = False\n",
    "\n",
    "    a = de_en.iloc[i,1]\n",
    "    b = de_en.iloc[i,2]\n",
    "\n",
    "    a = a.lower()\n",
    "    a = re.sub(\"[^a-z]\", ' ', a)\n",
    "    a = a.split()\n",
    "\n",
    "    b = b.lower()\n",
    "    b = re.sub(\"[^a-z]\", ' ', b)\n",
    "    b = b.split()\n",
    "\n",
    "    # Uncommenting the following two lines worsens the correlation\n",
    "    #a = [word for word in a if word not in stop]\n",
    "    #b = [word for word in b if word not in stop]\n",
    "\n",
    "    len_pre_oov1 = len(a)\n",
    "    len_pre_oov2 = len(b)\n",
    "    a = [token for token in a if token in glove.itos]\n",
    "    b = [token for token in b if token in glove.itos]\n",
    "    diff1 = len_pre_oov1 - len(a)\n",
    "    diff2 = len_pre_oov2 - len(b)\n",
    "\n",
    "    if len(a) == 0 or len(b) == 0:\n",
    "        #print('At least one of the documents had no words that were in the vocabulary. Aborting (returning inf).')\n",
    "        dist = -1\n",
    "        over = True\n",
    "\n",
    "    if not over:\n",
    "        dist = 0\n",
    "        for word_a in a:\n",
    "            distances_this = []\n",
    "            for word_b in b:\n",
    "\n",
    "                distances_this.append(torch.dist(get_word(word_a), get_word(word_b)))\n",
    "\n",
    "            min_dist = min(distances_this)\n",
    "\n",
    "            dist += min_dist\n",
    "    \n",
    "    distances.append(dist)\n",
    "\n",
    "max_dist = max(distances)\n",
    "distances = [max_dist if dist == -1 else dist for dist in distances]"
   ]
  },
  {
   "cell_type": "code",
   "execution_count": 11,
   "id": "be3e8e48",
   "metadata": {},
   "outputs": [
    {
     "data": {
      "text/plain": [
       "-0.1648361559689596"
      ]
     },
     "execution_count": 11,
     "metadata": {},
     "output_type": "execute_result"
    }
   ],
   "source": [
    "pearsonr(de_en['avg-score'], distances)[0]"
   ]
  },
  {
   "cell_type": "markdown",
   "id": "ae117089",
   "metadata": {},
   "source": [
    "-0.1648361559689596"
   ]
  },
  {
   "cell_type": "code",
   "execution_count": 12,
   "id": "f4bb17fa",
   "metadata": {},
   "outputs": [
    {
     "data": {
      "text/plain": [
       "-0.1396207216132029"
      ]
     },
     "execution_count": 12,
     "metadata": {},
     "output_type": "execute_result"
    }
   ],
   "source": [
    "kendalltau(de_en['avg-score'], distances)[0]"
   ]
  },
  {
   "cell_type": "markdown",
   "id": "aa5ebf92",
   "metadata": {},
   "source": [
    "-0.1396207216132029"
   ]
  },
  {
   "cell_type": "markdown",
   "id": "43f91e40",
   "metadata": {},
   "source": [
    "# Word mover's distance\n",
    "https://pypi.org/project/word-mover-distance/#description"
   ]
  },
  {
   "cell_type": "markdown",
   "id": "b2ff26e3",
   "metadata": {},
   "source": [
    "## Convert the embedding model into a dictionary and pass it to word_mover_distance"
   ]
  },
  {
   "cell_type": "code",
   "execution_count": 13,
   "id": "67fb802e",
   "metadata": {},
   "outputs": [],
   "source": [
    "glove_dict = {}\n",
    "\n",
    "for i in range(len(glove.vectors)):\n",
    "    glove_dict[glove.itos[i]] = glove.vectors[i].numpy()"
   ]
  },
  {
   "cell_type": "code",
   "execution_count": 14,
   "id": "e1c09ef2",
   "metadata": {},
   "outputs": [
    {
     "data": {
      "text/plain": [
       "array([ 4.1800e-01,  2.4968e-01, -4.1242e-01,  1.2170e-01,  3.4527e-01,\n",
       "       -4.4457e-02, -4.9688e-01, -1.7862e-01, -6.6023e-04, -6.5660e-01,\n",
       "        2.7843e-01, -1.4767e-01, -5.5677e-01,  1.4658e-01, -9.5095e-03,\n",
       "        1.1658e-02,  1.0204e-01, -1.2792e-01, -8.4430e-01, -1.2181e-01,\n",
       "       -1.6801e-02, -3.3279e-01, -1.5520e-01, -2.3131e-01, -1.9181e-01,\n",
       "       -1.8823e+00, -7.6746e-01,  9.9051e-02, -4.2125e-01, -1.9526e-01,\n",
       "        4.0071e+00, -1.8594e-01, -5.2287e-01, -3.1681e-01,  5.9213e-04,\n",
       "        7.4449e-03,  1.7778e-01, -1.5897e-01,  1.2041e-02, -5.4223e-02,\n",
       "       -2.9871e-01, -1.5749e-01, -3.4758e-01, -4.5637e-02, -4.4251e-01,\n",
       "        1.8785e-01,  2.7849e-03, -1.8411e-01, -1.1514e-01, -7.8581e-01],\n",
       "      dtype=float32)"
      ]
     },
     "execution_count": 14,
     "metadata": {},
     "output_type": "execute_result"
    }
   ],
   "source": [
    "# Get one example\n",
    "glove_dict['the']"
   ]
  },
  {
   "cell_type": "code",
   "execution_count": 15,
   "id": "bdfde341",
   "metadata": {},
   "outputs": [],
   "source": [
    "my_model = model.WordEmbedding(model=glove_dict)"
   ]
  },
  {
   "cell_type": "markdown",
   "id": "9d482678",
   "metadata": {},
   "source": [
    "## Test word_mover_distance"
   ]
  },
  {
   "cell_type": "code",
   "execution_count": 16,
   "id": "5c00323a",
   "metadata": {},
   "outputs": [
    {
     "data": {
      "text/plain": [
       "1.8119693993679309"
      ]
     },
     "execution_count": 16,
     "metadata": {},
     "output_type": "execute_result"
    }
   ],
   "source": [
    "s1 = 'Obama speaks to the media in Chicago'.lower().split()\n",
    "s2 = 'The president spoke to the press in Chicago'.lower().split()\n",
    "wmdistance = my_model.wmdistance(s1, s2)\n",
    "wmdistance"
   ]
  },
  {
   "cell_type": "markdown",
   "id": "e5328832",
   "metadata": {},
   "source": [
    "1.8119693993679309"
   ]
  },
  {
   "cell_type": "markdown",
   "id": "bec47e78",
   "metadata": {},
   "source": [
    "## Use word_mover_distance on our data"
   ]
  },
  {
   "cell_type": "markdown",
   "id": "3ec70d4b",
   "metadata": {},
   "source": [
    "### Version 1: With stopword removal"
   ]
  },
  {
   "cell_type": "code",
   "execution_count": 17,
   "id": "7a1e9285",
   "metadata": {},
   "outputs": [],
   "source": [
    "stop = stopwords.words('english')"
   ]
  },
  {
   "cell_type": "code",
   "execution_count": 18,
   "id": "9bfbe51b",
   "metadata": {},
   "outputs": [
    {
     "data": {
      "application/vnd.jupyter.widget-view+json": {
       "model_id": "d67f46c8d3664818a876a16d69dfb4d1",
       "version_major": 2,
       "version_minor": 0
      },
      "text/plain": [
       "  0%|          | 0/21704 [00:00<?, ?it/s]"
      ]
     },
     "metadata": {},
     "output_type": "display_data"
    }
   ],
   "source": [
    "data = de_en\n",
    "\n",
    "wmdistances = []\n",
    "\n",
    "for row in tqdm(range(data.shape[0])):\n",
    "    \n",
    "    s1 = data.iloc[row,1]\n",
    "    s2 = data.iloc[row,2]\n",
    "    \n",
    "    s1 = s1.lower()\n",
    "    s1 = re.sub(\"[^a-z]\", ' ', s1)\n",
    "    s1 = s1.split()\n",
    "    \n",
    "    s2 = s2.lower()\n",
    "    s2 = re.sub(\"[^a-z]\", ' ', s2)\n",
    "    s2 = s2.split()\n",
    "    \n",
    "    s1 = [word for word in s1 if word not in stop]\n",
    "    s2 = [word for word in s2 if word not in stop]\n",
    "    \n",
    "    wmdistance = my_model.wmdistance(s1, s2)\n",
    "    wmdistances.append(wmdistance)"
   ]
  },
  {
   "cell_type": "markdown",
   "id": "69bc3083",
   "metadata": {},
   "source": [
    "#### Replace inf values by maximum"
   ]
  },
  {
   "cell_type": "code",
   "execution_count": 19,
   "id": "9139602f",
   "metadata": {},
   "outputs": [],
   "source": [
    "wmdistances2 = [-1 if dist == np.inf else dist for dist in wmdistances]\n",
    "max_dist = max(wmdistances2)\n",
    "wmdistances2 = [max_dist if dist == -1 else dist for dist in wmdistances2]"
   ]
  },
  {
   "cell_type": "code",
   "execution_count": 20,
   "id": "25ec9c93",
   "metadata": {},
   "outputs": [
    {
     "data": {
      "text/plain": [
       "-0.27926436711081465"
      ]
     },
     "execution_count": 20,
     "metadata": {},
     "output_type": "execute_result"
    }
   ],
   "source": [
    "pearsonr(de_en['avg-score'], wmdistances2)[0]"
   ]
  },
  {
   "cell_type": "markdown",
   "id": "520946b9",
   "metadata": {},
   "source": [
    "-0.27926436711081465"
   ]
  },
  {
   "cell_type": "code",
   "execution_count": 21,
   "id": "29b3566d",
   "metadata": {},
   "outputs": [
    {
     "data": {
      "text/plain": [
       "-0.20792525828577252"
      ]
     },
     "execution_count": 21,
     "metadata": {},
     "output_type": "execute_result"
    }
   ],
   "source": [
    "kendalltau(de_en['avg-score'], wmdistances2)[0]"
   ]
  },
  {
   "cell_type": "markdown",
   "id": "7dc1c3c7",
   "metadata": {},
   "source": [
    "-0.20792525828577252"
   ]
  },
  {
   "cell_type": "markdown",
   "id": "803788d6",
   "metadata": {},
   "source": [
    "#### Replace inf values by maximum/2"
   ]
  },
  {
   "cell_type": "code",
   "execution_count": 22,
   "id": "c005c0a9",
   "metadata": {},
   "outputs": [],
   "source": [
    "wmdistances2 = [-1 if dist == np.inf else dist for dist in wmdistances]\n",
    "\n",
    "wmdistances2 = [(max_dist/2) if dist == -1 else dist for dist in wmdistances2]"
   ]
  },
  {
   "cell_type": "code",
   "execution_count": 23,
   "id": "b81137bc",
   "metadata": {},
   "outputs": [
    {
     "data": {
      "text/plain": [
       "-0.2931366960034692"
      ]
     },
     "execution_count": 23,
     "metadata": {},
     "output_type": "execute_result"
    }
   ],
   "source": [
    "pearsonr(de_en['avg-score'], wmdistances2)[0]"
   ]
  },
  {
   "cell_type": "markdown",
   "id": "d8879a1f",
   "metadata": {},
   "source": [
    "-0.2931366960034692"
   ]
  },
  {
   "cell_type": "code",
   "execution_count": 24,
   "id": "b486c6fc",
   "metadata": {},
   "outputs": [
    {
     "data": {
      "text/plain": [
       "-0.2081883157171871"
      ]
     },
     "execution_count": 24,
     "metadata": {},
     "output_type": "execute_result"
    }
   ],
   "source": [
    "kendalltau(de_en['avg-score'], wmdistances2)[0]"
   ]
  },
  {
   "cell_type": "code",
   "execution_count": 25,
   "id": "e479b9eb",
   "metadata": {},
   "outputs": [
    {
     "data": {
      "text/plain": [
       "-0.2081883157171871"
      ]
     },
     "execution_count": 25,
     "metadata": {},
     "output_type": "execute_result"
    }
   ],
   "source": [
    "-0.2081883157171871"
   ]
  },
  {
   "cell_type": "markdown",
   "id": "5b3f8595",
   "metadata": {},
   "source": [
    "### Version 2: Without stopword removal"
   ]
  },
  {
   "cell_type": "code",
   "execution_count": 26,
   "id": "c7e602ba",
   "metadata": {},
   "outputs": [
    {
     "data": {
      "application/vnd.jupyter.widget-view+json": {
       "model_id": "7d397c3421094253a0fda126d65415da",
       "version_major": 2,
       "version_minor": 0
      },
      "text/plain": [
       "  0%|          | 0/21704 [00:00<?, ?it/s]"
      ]
     },
     "metadata": {},
     "output_type": "display_data"
    }
   ],
   "source": [
    "data = de_en\n",
    "\n",
    "wmdistances = []\n",
    "\n",
    "for row in tqdm(range(data.shape[0])):\n",
    "    \n",
    "    s1 = data.iloc[row,1]\n",
    "    s2 = data.iloc[row,2]\n",
    "    \n",
    "    s1 = s1.lower()\n",
    "    s1 = re.sub(\"[^a-z]\", ' ', s1)\n",
    "    s1 = s1.split()\n",
    "    \n",
    "    s2 = s2.lower()\n",
    "    s2 = re.sub(\"[^a-z]\", ' ', s2)\n",
    "    s2 = s2.split()\n",
    "    \n",
    "    wmdistance = my_model.wmdistance(s1, s2)\n",
    "    wmdistances.append(wmdistance)"
   ]
  },
  {
   "cell_type": "markdown",
   "id": "1d6650b6",
   "metadata": {},
   "source": [
    "#### Replace inf values by maximum"
   ]
  },
  {
   "cell_type": "code",
   "execution_count": 27,
   "id": "b43adc51",
   "metadata": {},
   "outputs": [],
   "source": [
    "wmdistances2 = [-1 if dist == np.inf else dist for dist in wmdistances]\n",
    "max_dist = max(wmdistances2)\n",
    "wmdistances2 = [max_dist if dist == -1 else dist for dist in wmdistances2]"
   ]
  },
  {
   "cell_type": "code",
   "execution_count": 28,
   "id": "f09e1bb0",
   "metadata": {},
   "outputs": [
    {
     "data": {
      "text/plain": [
       "-0.30853318447232847"
      ]
     },
     "execution_count": 28,
     "metadata": {},
     "output_type": "execute_result"
    }
   ],
   "source": [
    "pearsonr(de_en['avg-score'], wmdistances2)[0]"
   ]
  },
  {
   "cell_type": "code",
   "execution_count": 29,
   "id": "f562584b",
   "metadata": {},
   "outputs": [
    {
     "data": {
      "text/plain": [
       "-0.2168328261851982"
      ]
     },
     "execution_count": 29,
     "metadata": {},
     "output_type": "execute_result"
    }
   ],
   "source": [
    "kendalltau(de_en['avg-score'], wmdistances2)[0]"
   ]
  },
  {
   "cell_type": "markdown",
   "id": "110753bd",
   "metadata": {},
   "source": [
    "#### Replace inf values by maximum/2"
   ]
  },
  {
   "cell_type": "code",
   "execution_count": 30,
   "id": "0d0d7024",
   "metadata": {},
   "outputs": [],
   "source": [
    "wmdistances2 = [-1 if dist == np.inf else dist for dist in wmdistances]\n",
    "\n",
    "wmdistances2 = [(max_dist/2) if dist == -1 else dist for dist in wmdistances2]"
   ]
  },
  {
   "cell_type": "code",
   "execution_count": 31,
   "id": "8e448a81",
   "metadata": {},
   "outputs": [
    {
     "data": {
      "text/plain": [
       "-0.30882340005334613"
      ]
     },
     "execution_count": 31,
     "metadata": {},
     "output_type": "execute_result"
    }
   ],
   "source": [
    "pearsonr(de_en['avg-score'], wmdistances2)[0]"
   ]
  },
  {
   "cell_type": "markdown",
   "id": "c4e7536d",
   "metadata": {},
   "source": [
    "-0.30882340005334613"
   ]
  },
  {
   "cell_type": "code",
   "execution_count": 32,
   "id": "01cf7348",
   "metadata": {},
   "outputs": [
    {
     "data": {
      "text/plain": [
       "-0.2168229814123602"
      ]
     },
     "execution_count": 32,
     "metadata": {},
     "output_type": "execute_result"
    }
   ],
   "source": [
    "kendalltau(de_en['avg-score'], wmdistances2)[0]"
   ]
  },
  {
   "cell_type": "markdown",
   "id": "1df2104c",
   "metadata": {},
   "source": [
    "-0.2168229814123602"
   ]
  },
  {
   "cell_type": "markdown",
   "id": "f13390d5",
   "metadata": {},
   "source": [
    "#### Find optimal q for replacing inf values by maximum/q"
   ]
  },
  {
   "cell_type": "code",
   "execution_count": 33,
   "id": "8ffd7386",
   "metadata": {},
   "outputs": [],
   "source": [
    "wmdistances2 = [-1 if dist == np.inf else dist for dist in wmdistances]\n",
    "max_dist = max(wmdistances2)\n",
    "\n",
    "Ps = []\n",
    "Ks = []\n",
    "\n",
    "for q in np.arange(1,10.1,0.1):\n",
    "    wmdistances3 = [(max_dist/q) if dist == -1 else dist for dist in wmdistances2]\n",
    "    p = pearsonr(de_en['avg-score'], wmdistances3)[0]\n",
    "    k = kendalltau(de_en['avg-score'], wmdistances3)[0]\n",
    "    Ps.append(p)\n",
    "    Ks.append(k)"
   ]
  },
  {
   "cell_type": "code",
   "execution_count": 34,
   "id": "fa3e7edd",
   "metadata": {},
   "outputs": [
    {
     "data": {
      "text/plain": [
       "[<matplotlib.lines.Line2D at 0x7fe737dfba60>]"
      ]
     },
     "execution_count": 34,
     "metadata": {},
     "output_type": "execute_result"
    },
    {
     "data": {
      "image/png": "[encoded data removed]",
      "text/plain": [
       "<Figure size 432x288 with 1 Axes>"
      ]
     },
     "metadata": {
      "needs_background": "light"
     },
     "output_type": "display_data"
    }
   ],
   "source": [
    "plt.plot(Ps)"
   ]
  },
  {
   "cell_type": "code",
   "execution_count": 35,
   "id": "257f411d",
   "metadata": {},
   "outputs": [
    {
     "data": {
      "text/plain": [
       "[<matplotlib.lines.Line2D at 0x7fe737d68880>]"
      ]
     },
     "execution_count": 35,
     "metadata": {},
     "output_type": "execute_result"
    },
    {
     "data": {
      "image/png": "[encoded data removed]",
      "text/plain": [
       "<Figure size 432x288 with 1 Axes>"
      ]
     },
     "metadata": {
      "needs_background": "light"
     },
     "output_type": "display_data"
    }
   ],
   "source": [
    "plt.plot(Ks)"
   ]
  },
  {
   "cell_type": "code",
   "execution_count": 36,
   "id": "f4f1105a",
   "metadata": {},
   "outputs": [
    {
     "data": {
      "text/plain": [
       "[5]"
      ]
     },
     "execution_count": 36,
     "metadata": {},
     "output_type": "execute_result"
    }
   ],
   "source": [
    "temp = min(Ps)\n",
    "opt_index = [i for i, j in enumerate(Ps) if j == temp]\n",
    "opt_index"
   ]
  },
  {
   "cell_type": "code",
   "execution_count": 37,
   "id": "9ce2df77",
   "metadata": {},
   "outputs": [
    {
     "data": {
      "text/plain": [
       "array([1.5])"
      ]
     },
     "execution_count": 37,
     "metadata": {},
     "output_type": "execute_result"
    }
   ],
   "source": [
    "np.arange(1,10.1,0.1)[opt_index]"
   ]
  },
  {
   "cell_type": "code",
   "execution_count": 38,
   "id": "8e240161",
   "metadata": {},
   "outputs": [
    {
     "data": {
      "text/plain": [
       "-0.3088945388262984"
      ]
     },
     "execution_count": 38,
     "metadata": {},
     "output_type": "execute_result"
    }
   ],
   "source": [
    "Ps[opt_index[0]]"
   ]
  },
  {
   "cell_type": "markdown",
   "id": "bc4685a2",
   "metadata": {},
   "source": [
    "## With q=1.5 and all language pairs"
   ]
  },
  {
   "cell_type": "code",
   "execution_count": 39,
   "id": "03c9ddb2",
   "metadata": {},
   "outputs": [
    {
     "data": {
      "application/vnd.jupyter.widget-view+json": {
       "model_id": "c72abd0faa874465b368f7fdf15a0b51",
       "version_major": 2,
       "version_minor": 0
      },
      "text/plain": [
       "  0%|          | 0/11585 [00:00<?, ?it/s]"
      ]
     },
     "metadata": {},
     "output_type": "display_data"
    },
    {
     "name": "stdout",
     "output_type": "stream",
     "text": [
      "cs_en\n",
      "Pearson: -0.42960280668318424\n",
      "Kendall: -0.2943086361107622\n"
     ]
    },
    {
     "data": {
      "application/vnd.jupyter.widget-view+json": {
       "model_id": "278b1faec1e94e518714f842ec7d12c4",
       "version_major": 2,
       "version_minor": 0
      },
      "text/plain": [
       "  0%|          | 0/21704 [00:00<?, ?it/s]"
      ]
     },
     "metadata": {},
     "output_type": "display_data"
    },
    {
     "name": "stdout",
     "output_type": "stream",
     "text": [
      "de_en\n",
      "Pearson: -0.3088945388262984\n",
      "Kendall: -0.21683194616228435\n"
     ]
    },
    {
     "data": {
      "application/vnd.jupyter.widget-view+json": {
       "model_id": "e5df84d22e3e4a5da3e2d2258ba0aa47",
       "version_major": 2,
       "version_minor": 0
      },
      "text/plain": [
       "  0%|          | 0/6748 [00:00<?, ?it/s]"
      ]
     },
     "metadata": {},
     "output_type": "display_data"
    },
    {
     "name": "stdout",
     "output_type": "stream",
     "text": [
      "en_fi\n",
      "Pearson: -0.327685921486173\n",
      "Kendall: -0.22875147029027298\n"
     ]
    },
    {
     "data": {
      "application/vnd.jupyter.widget-view+json": {
       "model_id": "8e1864c41cb04b9c8db921df22f83c39",
       "version_major": 2,
       "version_minor": 0
      },
      "text/plain": [
       "  0%|          | 0/10221 [00:00<?, ?it/s]"
      ]
     },
     "metadata": {},
     "output_type": "display_data"
    },
    {
     "name": "stdout",
     "output_type": "stream",
     "text": [
      "en_zh\n",
      "Pearson: -0.0048874835144000995\n",
      "Kendall: 0.005673120935387304\n"
     ]
    },
    {
     "data": {
      "application/vnd.jupyter.widget-view+json": {
       "model_id": "49f5c3645fcd4070a8a3d3ee2b30aa68",
       "version_major": 2,
       "version_minor": 0
      },
      "text/plain": [
       "  0%|          | 0/17980 [00:00<?, ?it/s]"
      ]
     },
     "metadata": {},
     "output_type": "display_data"
    },
    {
     "name": "stdout",
     "output_type": "stream",
     "text": [
      "ru_en\n",
      "Pearson: -0.30654752716016337\n",
      "Kendall: -0.2136593066443208\n"
     ]
    },
    {
     "data": {
      "application/vnd.jupyter.widget-view+json": {
       "model_id": "e668a926fce04edea9f488a609efdd9d",
       "version_major": 2,
       "version_minor": 0
      },
      "text/plain": [
       "  0%|          | 0/26419 [00:00<?, ?it/s]"
      ]
     },
     "metadata": {},
     "output_type": "display_data"
    },
    {
     "name": "stdout",
     "output_type": "stream",
     "text": [
      "zh_en\n",
      "Pearson: -0.2972245166797449\n",
      "Kendall: -0.19566544617853907\n"
     ]
    }
   ],
   "source": [
    "for i, data in enumerate(data_list):\n",
    "\n",
    "    wmdistances = []\n",
    "\n",
    "    for row in tqdm(range(data.shape[0])):\n",
    "\n",
    "        s1 = data.iloc[row,1]\n",
    "        s2 = data.iloc[row,2]\n",
    "\n",
    "        s1 = s1.lower()\n",
    "        s1 = re.sub(\"[^a-z]\", ' ', s1)\n",
    "        s1 = s1.split()\n",
    "\n",
    "        s2 = s2.lower()\n",
    "        s2 = re.sub(\"[^a-z]\", ' ', s2)\n",
    "        s2 = s2.split()\n",
    "\n",
    "        wmdistance = my_model.wmdistance(s1, s2)\n",
    "        wmdistances.append(wmdistance)\n",
    "        \n",
    "    wmdistances2 = [-1 if dist == np.inf else dist for dist in wmdistances]\n",
    "    \n",
    "    max_dist = max(wmdistances2)\n",
    "\n",
    "    wmdistances2 = [(max_dist/1.5) if dist == -1 else dist for dist in wmdistances2]\n",
    "    \n",
    "    print(names_list[i])\n",
    "\n",
    "    print('Pearson:', pearsonr(data['avg-score'], wmdistances2)[0])\n",
    "\n",
    "    print('Kendall:', kendalltau(data['avg-score'], wmdistances2)[0])"
   ]
  },
  {
   "cell_type": "markdown",
   "id": "78991a27",
   "metadata": {},
   "source": [
    "cs_en\n",
    "Pearson: -0.4302867109402357\n",
    "Kendall: -0.2946087295081448\n",
    "\n",
    "de_en\n",
    "Pearson: -0.3082085182870933\n",
    "Kendall: -0.21652481793587566\n",
    "\n",
    "en_fi\n",
    "Pearson: -0.3585093522404916\n",
    "Kendall: -0.2424647181157597\n",
    "\n",
    "en_zh\n",
    "Pearson: -0.05633962440065445\n",
    "Kendall: -0.04644650615293067\n",
    "\n",
    "ru_en\n",
    "Pearson: -0.30558847639136544\n",
    "Kendall: -0.21335539304562018\n",
    "\n",
    "zh_en\n",
    "Pearson: -0.2973579205432469\n",
    "Kendall: -0.19579630984661323"
   ]
  },
  {
   "cell_type": "markdown",
   "id": "4355bf25",
   "metadata": {},
   "source": [
    "## <span style=\"color:red\">It can be seen that there is no significant correlation for Chinese (en_zh).</span>"
   ]
  },
  {
   "cell_type": "markdown",
   "id": "dc2bacdd",
   "metadata": {},
   "source": [
    "# Solving this: Use the embeddings created with the help of Ricardo's LaSBE notebook to see if this works better with the Chinese language"
   ]
  },
  {
   "cell_type": "markdown",
   "id": "404186ee",
   "metadata": {},
   "source": [
    "## Preprocess the embedding vectors data"
   ]
  },
  {
   "cell_type": "code",
   "execution_count": 8,
   "id": "a1264239",
   "metadata": {},
   "outputs": [],
   "source": [
    "# Import embedding vector representations for our vocabulary\n",
    "vectors_cs_en = pd.read_csv('/Users/philippmetzger/OneDrive/PHILIPP/NOVA IMS/2nd Semester/06 Text Mining 4 ECTS/00 Project/LaBSE/cs_en.csv')\n",
    "vectors_de_en = pd.read_csv('/Users/philippmetzger/OneDrive/PHILIPP/NOVA IMS/2nd Semester/06 Text Mining 4 ECTS/00 Project/LaBSE/de_en.csv')\n",
    "vectors_en_fi = pd.read_csv('/Users/philippmetzger/OneDrive/PHILIPP/NOVA IMS/2nd Semester/06 Text Mining 4 ECTS/00 Project/LaBSE/en_fi.csv')\n",
    "vectors_en_zh = pd.read_csv('/Users/philippmetzger/OneDrive/PHILIPP/NOVA IMS/2nd Semester/06 Text Mining 4 ECTS/00 Project/LaBSE/en_zh.csv')\n",
    "vectors_ru_en = pd.read_csv('/Users/philippmetzger/OneDrive/PHILIPP/NOVA IMS/2nd Semester/06 Text Mining 4 ECTS/00 Project/LaBSE/ru_en.csv')\n",
    "vectors_zh_en = pd.read_csv('/Users/philippmetzger/OneDrive/PHILIPP/NOVA IMS/2nd Semester/06 Text Mining 4 ECTS/00 Project/LaBSE/zh_en.csv')"
   ]
  },
  {
   "cell_type": "code",
   "execution_count": 9,
   "id": "7fbd2cb1",
   "metadata": {},
   "outputs": [],
   "source": [
    "# Create a list of our vectors dataframes\n",
    "vectors_dfs = [vectors_cs_en, vectors_de_en, vectors_en_fi, vectors_en_zh, vectors_ru_en, vectors_zh_en]"
   ]
  },
  {
   "cell_type": "code",
   "execution_count": 10,
   "id": "ab38a0de",
   "metadata": {},
   "outputs": [],
   "source": [
    "# Create a dictionary containing all our vectors. We need this format for Word Mover's distance\n",
    "# This process will remove all duplicate vectors\n",
    "\n",
    "my_dict = {}\n",
    "\n",
    "for vectors_df in vectors_dfs:\n",
    "    for i in range(vectors_df.shape[0]):\n",
    "        key = vectors_df.iloc[i,0]\n",
    "        values = vectors_df.iloc[i,1:].to_numpy(dtype='float32')\n",
    "        my_dict[key] = values"
   ]
  },
  {
   "cell_type": "code",
   "execution_count": 11,
   "id": "e73264a3",
   "metadata": {},
   "outputs": [],
   "source": [
    "# Tell Word Mover's distance which embeddings to use\n",
    "my_model = model.WordEmbedding(model=my_dict)"
   ]
  },
  {
   "cell_type": "markdown",
   "id": "655747d7",
   "metadata": {},
   "source": [
    "## Define functions"
   ]
  },
  {
   "cell_type": "code",
   "execution_count": 12,
   "id": "a92fff7d",
   "metadata": {},
   "outputs": [],
   "source": [
    "def tokenise_ref_and_trans(data):\n",
    "    \"\"\"Function for tokenizing the reference and translation columns one dataset of choice.\"\"\"\n",
    "    \n",
    "    ref_trans_tokenized = []\n",
    "    \n",
    "    for column in [1,2]:\n",
    "\n",
    "        tokenized = []\n",
    "\n",
    "        for i in tqdm(range(data.shape[0])):\n",
    "\n",
    "            # Remove most punctuation, add space in front of full stops, question marks, and exclamation marks\n",
    "            string = data.iloc[i,column].lower()\n",
    "            string = string.replace('.', ' .')\n",
    "            string = string.replace('?', ' ?')\n",
    "            string = string.replace('!', ' !')\n",
    "            string = string.replace('(', '')\n",
    "            string = string.replace(')', '')\n",
    "            string = string.replace('\"', '')\n",
    "            string = string.replace(\"'\", '')\n",
    "            string = string.replace('-', ' ')\n",
    "            string = string.replace(',', ' ')\n",
    "            string = string.replace(':', '')\n",
    "            string = string.replace('„', '')\n",
    "            string = string.replace('”', '')\n",
    "            string = string.replace('：', '')\n",
    "            string = string.replace('“', '')\n",
    "            string = string.replace('，', '')\n",
    "            string = string.replace('。', '')\n",
    "            string = string.replace('.', '')\n",
    "\n",
    "            # Remove all numbers\n",
    "            string = re.sub(r'[0-9]', '', string)\n",
    "            \n",
    "            # If string contains chinese, tokenise it using jieba\n",
    "            if re.search(u'[\\u4e00-\\u9fff]', string):\n",
    "                split_entry = [word for word in jieba.cut(string)]\n",
    "                \n",
    "            # Else, just split it normally\n",
    "            else:\n",
    "                split_entry = string.split()\n",
    "                \n",
    "            # Add it to our sentence list\n",
    "            tokenized.append(split_entry)\n",
    "\n",
    "        # Add sentence list to our list of sentence lists\n",
    "        ref_trans_tokenized.append(tokenized)\n",
    "        \n",
    "    return ref_trans_tokenized"
   ]
  },
  {
   "cell_type": "code",
   "execution_count": 13,
   "id": "cc21cd4e",
   "metadata": {},
   "outputs": [],
   "source": [
    "def apply_wm_distance(tokenized_data):\n",
    "    \"\"\"A function that takes a tokenized dataset of references and translations and computes each \n",
    "    pair's Word Mover's distance and returns a vector with all the computed distances.\"\"\"\n",
    "\n",
    "    wmdistances = []\n",
    "    cant_compute_ids = []\n",
    "\n",
    "    # Iterate over all pairs\n",
    "    for i in tqdm(range(len(tokenized_data[0]))):\n",
    "\n",
    "            # Get the two sentence lists that we want to compare\n",
    "            s1 = tokenized_data[0][i]\n",
    "            s2 = tokenized_data[1][i]\n",
    "\n",
    "            # Compute their Word Mover's distance from each other and append it to our list\n",
    "            wmdistance = my_model.wmdistance(s1, s2)\n",
    "            wmdistances.append(wmdistance)\n",
    "\n",
    "            # If MV's distance can't compute it, log the respective ID here\n",
    "            if wmdistance == np.inf:\n",
    "                cant_compute_ids.append(i)\n",
    "                \n",
    "    print(\"Indices of WM's distances that could not be computed: \", cant_compute_ids)\n",
    "                \n",
    "    return wmdistances"
   ]
  },
  {
   "cell_type": "code",
   "execution_count": 14,
   "id": "5d96eefe",
   "metadata": {},
   "outputs": [],
   "source": [
    "def compute_pearson_and_kendall(wmdistances, original_dataset, factor):\n",
    "    \"\"\"Computes Pearson correlation coefficient and Kendall's τ coefficient between WM's distances \n",
    "    and the z-score column, assigning the value to the inf values that is defined by the passed factor\"\"\"\n",
    "    \n",
    "    # Replace inf values with -1 for further processing (so we can get the maximum of the WM's distances)\n",
    "    wmdistances2 = [-1 if dist == np.inf else dist for dist in wmdistances]\n",
    "\n",
    "    # Get the maximum of the WM's distances\n",
    "    max_dist = max(wmdistances2)\n",
    "\n",
    "    # Devide the maximum by factor and assign the resulting value to all inf values\n",
    "    wmdistances2 = [(max_dist*factor) if dist == -1 else dist for dist in wmdistances2]\n",
    "\n",
    "    # Compute\n",
    "    pearson = pearsonr(original_dataset['z-score'], wmdistances2)[0]\n",
    "    kendall = kendalltau(original_dataset['z-score'], wmdistances2)[0]\n",
    "    \n",
    "    return pearson, kendall"
   ]
  },
  {
   "cell_type": "code",
   "execution_count": 15,
   "id": "80b03da2",
   "metadata": {},
   "outputs": [],
   "source": [
    "def optimise_factor(wmdistances, original_dataset, range_):\n",
    "    \n",
    "    Ps = []\n",
    "    Ks = []\n",
    "    \n",
    "    for factor in range_:\n",
    "        p, k = compute_pearson_and_kendall(wmdistances, original_dataset, factor)\n",
    "        Ps.append(p)\n",
    "        Ks.append(k)\n",
    "\n",
    "    min_p = min(Ps)\n",
    "    min_k = min(Ks)\n",
    "    \n",
    "    opt_index_p = [i for i, j in enumerate(Ps) if j == min_p]\n",
    "    opt_index_k = [i for i, j in enumerate(Ks) if j == min_k]\n",
    "\n",
    "    opt_factor_p = range_[opt_index_p][0]\n",
    "    opt_factor_k = range_[opt_index_k][0]\n",
    "\n",
    "    return Ps, Ks, opt_factor_p, opt_factor_k"
   ]
  },
  {
   "cell_type": "code",
   "execution_count": 16,
   "id": "b30115c0",
   "metadata": {},
   "outputs": [],
   "source": [
    "def plot_opt(optim_range, values, *args):\n",
    "    \n",
    "    # Create figure and plot\n",
    "    plt.figure\n",
    "    plt.plot(optim_range, values)\n",
    "    \n",
    "    # Add axis titles\n",
    "    plt.xlabel('factor')\n",
    "    \n",
    "    if len(args)>0:\n",
    "        if args[0]=='pearson':\n",
    "            plt.ylabel('Pearson correlation coefficient')\n",
    "    else:\n",
    "        plt.ylabel(\"Kendall's τ coefficient\")\n",
    "    \n",
    "    plt.show()"
   ]
  },
  {
   "cell_type": "code",
   "execution_count": 17,
   "id": "819145f7",
   "metadata": {},
   "outputs": [],
   "source": [
    "# Make a train/development split; allocate 20% of our data to the training set\n",
    "\n",
    "train = pd.DataFrame()\n",
    "dev = pd.DataFrame()\n",
    "\n",
    "for data in data_list:\n",
    "    \n",
    "    train_, dev_ = train_test_split(data, test_size=0.2, random_state=0, shuffle=True)\n",
    "    \n",
    "    train = pd.concat([train, train_])\n",
    "    dev = pd.concat([dev, dev_])"
   ]
  },
  {
   "cell_type": "code",
   "execution_count": 18,
   "id": "ed88ccf6",
   "metadata": {},
   "outputs": [
    {
     "data": {
      "application/vnd.jupyter.widget-view+json": {
       "model_id": "ee4c2c26a0ea4b999daebb6500a61b82",
       "version_major": 2,
       "version_minor": 0
      },
      "text/plain": [
       "  0%|          | 0/75724 [00:00<?, ?it/s]"
      ]
     },
     "metadata": {},
     "output_type": "display_data"
    },
    {
     "name": "stderr",
     "output_type": "stream",
     "text": [
      "Building prefix dict from the default dictionary ...\n",
      "Loading model from cache /var/folders/c3/ddgk3fbs6w1gm4pg4tfj0d0r0000gn/T/jieba.cache\n",
      "Loading model cost 0.720 seconds.\n",
      "Prefix dict has been built successfully.\n"
     ]
    },
    {
     "data": {
      "application/vnd.jupyter.widget-view+json": {
       "model_id": "54ea47746732478e9221831edd307adc",
       "version_major": 2,
       "version_minor": 0
      },
      "text/plain": [
       "  0%|          | 0/75724 [00:00<?, ?it/s]"
      ]
     },
     "metadata": {},
     "output_type": "display_data"
    },
    {
     "data": {
      "application/vnd.jupyter.widget-view+json": {
       "model_id": "3921552a2b014b35a914fc823d1be4ad",
       "version_major": 2,
       "version_minor": 0
      },
      "text/plain": [
       "  0%|          | 0/75724 [00:00<?, ?it/s]"
      ]
     },
     "metadata": {},
     "output_type": "display_data"
    },
    {
     "name": "stdout",
     "output_type": "stream",
     "text": [
      "Indices of WM's distances that could not be computed:  [5454, 13066, 15450, 22413, 25244, 26501, 32153, 44736, 52039, 52049, 73932]\n"
     ]
    }
   ],
   "source": [
    "# Compute Word Mover's distances for our training set\n",
    "\n",
    "wmdistances = apply_wm_distance(tokenise_ref_and_trans(train))"
   ]
  },
  {
   "cell_type": "code",
   "execution_count": 19,
   "id": "8c0705db",
   "metadata": {},
   "outputs": [
    {
     "name": "stdout",
     "output_type": "stream",
     "text": [
      "Optimal factor in respect to Pearson: 0.490000000000002\n",
      "Optimal factor in respect to Kendall: 0.3400000000000021\n"
     ]
    }
   ],
   "source": [
    "# Optimise for the factor that defines what value is assigned to the ones where the MV distance could not be computed\n",
    "\n",
    "# Define a domain for the factor\n",
    "optim_range = np.arange(-2,2,0.01)\n",
    "\n",
    "# Run optimisation\n",
    "Ps, Ks, opt_factor_p, opt_factor_k = optimise_factor(wmdistances, train, optim_range)\n",
    "\n",
    "# Print optimal values in regards of Pearson correlation coefficient and Kendall's τ coefficient respectively\n",
    "print('Optimal factor in respect to Pearson:', opt_factor_p)\n",
    "print('Optimal factor in respect to Kendall:', opt_factor_k)"
   ]
  },
  {
   "cell_type": "code",
   "execution_count": 20,
   "id": "9008c846",
   "metadata": {},
   "outputs": [
    {
     "data": {
      "image/png": "[encoded data removed]",
      "text/plain": [
       "<Figure size 432x288 with 1 Axes>"
      ]
     },
     "metadata": {
      "needs_background": "light"
     },
     "output_type": "display_data"
    }
   ],
   "source": [
    "# Plot Pearson correlation coefficient depending on the factor\n",
    "plot_opt(optim_range, Ps, 'pearson')"
   ]
  },
  {
   "cell_type": "code",
   "execution_count": 21,
   "id": "1fb1f9c7",
   "metadata": {},
   "outputs": [
    {
     "data": {
      "image/png": "[encoded data removed]",
      "text/plain": [
       "<Figure size 432x288 with 1 Axes>"
      ]
     },
     "metadata": {
      "needs_background": "light"
     },
     "output_type": "display_data"
    }
   ],
   "source": [
    "# Plot Kendall's τ coefficient dependign on the factor\n",
    "plot_opt(optim_range, Ks)"
   ]
  },
  {
   "cell_type": "code",
   "execution_count": 22,
   "id": "697c1252",
   "metadata": {},
   "outputs": [
    {
     "name": "stdout",
     "output_type": "stream",
     "text": [
      "factor =  0.41500000000000203\n"
     ]
    }
   ],
   "source": [
    "# Choose an adequate value in regards to both results above:\n",
    "factor = (opt_factor_p + opt_factor_k) / 2\n",
    "print('factor = ', factor)"
   ]
  },
  {
   "cell_type": "code",
   "execution_count": 24,
   "id": "d7a64271",
   "metadata": {},
   "outputs": [
    {
     "name": "stdout",
     "output_type": "stream",
     "text": [
      "Pearson correlation coefficient for training set: -0.38067987332251996\n",
      "Kendall's τ coefficient for training set: -0.24926995626409074\n"
     ]
    }
   ],
   "source": [
    "pearson_train, kendall_train = compute_pearson_and_kendall(wmdistances, train, factor)\n",
    "print('Pearson correlation coefficient for training set:', pearson_train)\n",
    "print(\"Kendall's τ coefficient for training set:\", kendall_train)"
   ]
  },
  {
   "cell_type": "markdown",
   "id": "8cb00a4d",
   "metadata": {},
   "source": [
    "## Run on the development set"
   ]
  },
  {
   "cell_type": "code",
   "execution_count": 25,
   "id": "0d63aa61",
   "metadata": {},
   "outputs": [
    {
     "data": {
      "application/vnd.jupyter.widget-view+json": {
       "model_id": "9e49428096ac49de94a149d91cc34848",
       "version_major": 2,
       "version_minor": 0
      },
      "text/plain": [
       "  0%|          | 0/18933 [00:00<?, ?it/s]"
      ]
     },
     "metadata": {},
     "output_type": "display_data"
    },
    {
     "data": {
      "application/vnd.jupyter.widget-view+json": {
       "model_id": "3c091eceffbd4e449f5d2ec63b6e3698",
       "version_major": 2,
       "version_minor": 0
      },
      "text/plain": [
       "  0%|          | 0/18933 [00:00<?, ?it/s]"
      ]
     },
     "metadata": {},
     "output_type": "display_data"
    },
    {
     "data": {
      "application/vnd.jupyter.widget-view+json": {
       "model_id": "59b55ec9932848b08a465f5297862043",
       "version_major": 2,
       "version_minor": 0
      },
      "text/plain": [
       "  0%|          | 0/18933 [00:00<?, ?it/s]"
      ]
     },
     "metadata": {},
     "output_type": "display_data"
    },
    {
     "name": "stdout",
     "output_type": "stream",
     "text": [
      "Indices of WM's distances that could not be computed:  [2514, 5864]\n"
     ]
    }
   ],
   "source": [
    "# Compute Word Mover's distances for our development set\n",
    "wmdistances_dev = apply_wm_distance(tokenise_ref_and_trans(dev))"
   ]
  },
  {
   "cell_type": "code",
   "execution_count": 26,
   "id": "402fc5eb",
   "metadata": {},
   "outputs": [
    {
     "name": "stdout",
     "output_type": "stream",
     "text": [
      "Pearson correlation coefficient for development set: -0.38876128705095575\n",
      "Kendall's τ coefficient for development set: -0.2550470420652122\n"
     ]
    }
   ],
   "source": [
    "pearson_dev, kendall_dev = compute_pearson_and_kendall(wmdistances_dev, dev, factor)\n",
    "print('Pearson correlation coefficient for development set:', pearson_dev)\n",
    "print(\"Kendall's τ coefficient for development set:\", kendall_dev)"
   ]
  },
  {
   "cell_type": "markdown",
   "id": "22d8d0f6",
   "metadata": {},
   "source": [
    "## Run this setup on the individual language pair data sets to verify that everything is working as it should"
   ]
  },
  {
   "cell_type": "code",
   "execution_count": 27,
   "id": "15d879c7",
   "metadata": {},
   "outputs": [
    {
     "data": {
      "application/vnd.jupyter.widget-view+json": {
       "model_id": "a59353746875441b9a3198196e0484e6",
       "version_major": 2,
       "version_minor": 0
      },
      "text/plain": [
       "  0%|          | 0/11585 [00:00<?, ?it/s]"
      ]
     },
     "metadata": {},
     "output_type": "display_data"
    },
    {
     "data": {
      "application/vnd.jupyter.widget-view+json": {
       "model_id": "eada3c4cb78a430587aa02a1df9b56e9",
       "version_major": 2,
       "version_minor": 0
      },
      "text/plain": [
       "  0%|          | 0/11585 [00:00<?, ?it/s]"
      ]
     },
     "metadata": {},
     "output_type": "display_data"
    },
    {
     "data": {
      "application/vnd.jupyter.widget-view+json": {
       "model_id": "3b5530f868e14a2a88b22168bba7b4c9",
       "version_major": 2,
       "version_minor": 0
      },
      "text/plain": [
       "  0%|          | 0/11585 [00:00<?, ?it/s]"
      ]
     },
     "metadata": {},
     "output_type": "display_data"
    },
    {
     "name": "stdout",
     "output_type": "stream",
     "text": [
      "Indices of WM's distances that could not be computed:  [11022]\n"
     ]
    },
    {
     "data": {
      "application/vnd.jupyter.widget-view+json": {
       "model_id": "6ae4d234d8714979a4a0b8814a39b403",
       "version_major": 2,
       "version_minor": 0
      },
      "text/plain": [
       "  0%|          | 0/21704 [00:00<?, ?it/s]"
      ]
     },
     "metadata": {},
     "output_type": "display_data"
    },
    {
     "data": {
      "application/vnd.jupyter.widget-view+json": {
       "model_id": "006f884a5d14477eaf134ab342e6155c",
       "version_major": 2,
       "version_minor": 0
      },
      "text/plain": [
       "  0%|          | 0/21704 [00:00<?, ?it/s]"
      ]
     },
     "metadata": {},
     "output_type": "display_data"
    },
    {
     "data": {
      "application/vnd.jupyter.widget-view+json": {
       "model_id": "3ba1d3a2adcf46fba46ca622defd3efa",
       "version_major": 2,
       "version_minor": 0
      },
      "text/plain": [
       "  0%|          | 0/21704 [00:00<?, ?it/s]"
      ]
     },
     "metadata": {},
     "output_type": "display_data"
    },
    {
     "name": "stdout",
     "output_type": "stream",
     "text": [
      "Indices of WM's distances that could not be computed:  [1492, 3302, 6298, 8159, 9937, 11757, 13866]\n"
     ]
    },
    {
     "data": {
      "application/vnd.jupyter.widget-view+json": {
       "model_id": "2c0735e3da194cb4bb81f0693ef3a36d",
       "version_major": 2,
       "version_minor": 0
      },
      "text/plain": [
       "  0%|          | 0/6748 [00:00<?, ?it/s]"
      ]
     },
     "metadata": {},
     "output_type": "display_data"
    },
    {
     "data": {
      "application/vnd.jupyter.widget-view+json": {
       "model_id": "53b9e3105a664a40ab49b5864d7eea28",
       "version_major": 2,
       "version_minor": 0
      },
      "text/plain": [
       "  0%|          | 0/6748 [00:00<?, ?it/s]"
      ]
     },
     "metadata": {},
     "output_type": "display_data"
    },
    {
     "data": {
      "application/vnd.jupyter.widget-view+json": {
       "model_id": "a66386165967404b80a0bafe7b813f8c",
       "version_major": 2,
       "version_minor": 0
      },
      "text/plain": [
       "  0%|          | 0/6748 [00:00<?, ?it/s]"
      ]
     },
     "metadata": {},
     "output_type": "display_data"
    },
    {
     "name": "stdout",
     "output_type": "stream",
     "text": [
      "Indices of WM's distances that could not be computed:  []\n"
     ]
    },
    {
     "data": {
      "application/vnd.jupyter.widget-view+json": {
       "model_id": "fbc0bd55d8a14788af7754b1c6572ace",
       "version_major": 2,
       "version_minor": 0
      },
      "text/plain": [
       "  0%|          | 0/10221 [00:00<?, ?it/s]"
      ]
     },
     "metadata": {},
     "output_type": "display_data"
    },
    {
     "data": {
      "application/vnd.jupyter.widget-view+json": {
       "model_id": "84c7c342e56f483f8816fb7d67826b7c",
       "version_major": 2,
       "version_minor": 0
      },
      "text/plain": [
       "  0%|          | 0/10221 [00:00<?, ?it/s]"
      ]
     },
     "metadata": {},
     "output_type": "display_data"
    },
    {
     "data": {
      "application/vnd.jupyter.widget-view+json": {
       "model_id": "ecc42f1df94040e497336df715857ae4",
       "version_major": 2,
       "version_minor": 0
      },
      "text/plain": [
       "  0%|          | 0/10221 [00:00<?, ?it/s]"
      ]
     },
     "metadata": {},
     "output_type": "display_data"
    },
    {
     "name": "stdout",
     "output_type": "stream",
     "text": [
      "Indices of WM's distances that could not be computed:  [9575]\n"
     ]
    },
    {
     "data": {
      "application/vnd.jupyter.widget-view+json": {
       "model_id": "903338f768c04e67b9dddde930f65f28",
       "version_major": 2,
       "version_minor": 0
      },
      "text/plain": [
       "  0%|          | 0/17980 [00:00<?, ?it/s]"
      ]
     },
     "metadata": {},
     "output_type": "display_data"
    },
    {
     "data": {
      "application/vnd.jupyter.widget-view+json": {
       "model_id": "006167be33954d4197ac6438c69ef7e1",
       "version_major": 2,
       "version_minor": 0
      },
      "text/plain": [
       "  0%|          | 0/17980 [00:00<?, ?it/s]"
      ]
     },
     "metadata": {},
     "output_type": "display_data"
    },
    {
     "data": {
      "application/vnd.jupyter.widget-view+json": {
       "model_id": "7cbbc046155842cc88739e753361af0e",
       "version_major": 2,
       "version_minor": 0
      },
      "text/plain": [
       "  0%|          | 0/17980 [00:00<?, ?it/s]"
      ]
     },
     "metadata": {},
     "output_type": "display_data"
    },
    {
     "name": "stdout",
     "output_type": "stream",
     "text": [
      "Indices of WM's distances that could not be computed:  [6235, 6831, 7881]\n"
     ]
    },
    {
     "data": {
      "application/vnd.jupyter.widget-view+json": {
       "model_id": "a68a30cc03c747749cd01969d29edc8c",
       "version_major": 2,
       "version_minor": 0
      },
      "text/plain": [
       "  0%|          | 0/26419 [00:00<?, ?it/s]"
      ]
     },
     "metadata": {},
     "output_type": "display_data"
    },
    {
     "data": {
      "application/vnd.jupyter.widget-view+json": {
       "model_id": "d82f5afc2e19422b95ddbc4421ab60ef",
       "version_major": 2,
       "version_minor": 0
      },
      "text/plain": [
       "  0%|          | 0/26419 [00:00<?, ?it/s]"
      ]
     },
     "metadata": {},
     "output_type": "display_data"
    },
    {
     "data": {
      "application/vnd.jupyter.widget-view+json": {
       "model_id": "63efaf51800b45d8a79353ea74586e1e",
       "version_major": 2,
       "version_minor": 0
      },
      "text/plain": [
       "  0%|          | 0/26419 [00:00<?, ?it/s]"
      ]
     },
     "metadata": {},
     "output_type": "display_data"
    },
    {
     "name": "stdout",
     "output_type": "stream",
     "text": [
      "Indices of WM's distances that could not be computed:  [15223]\n"
     ]
    }
   ],
   "source": [
    "results = {}\n",
    "\n",
    "for i, data in enumerate(data_list):\n",
    "    \n",
    "    # Compute WM's distances\n",
    "    wmdistances = apply_wm_distance(tokenise_ref_and_trans(data))\n",
    "    \n",
    "    # Compute Pearson correlation coefficient and Kendall's τ coefficient\n",
    "    pearson_this, kendall_this = compute_pearson_and_kendall(wmdistances, data, factor)\n",
    "    \n",
    "    # Add these values to our dict\n",
    "    results[names_list[i]] = [pearson_this, kendall_this]"
   ]
  },
  {
   "cell_type": "code",
   "execution_count": 28,
   "id": "fb8475f0",
   "metadata": {},
   "outputs": [
    {
     "data": {
      "text/html": [
       "<div>\n",
       "<style scoped>\n",
       "    .dataframe tbody tr th:only-of-type {\n",
       "        vertical-align: middle;\n",
       "    }\n",
       "\n",
       "    .dataframe tbody tr th {\n",
       "        vertical-align: top;\n",
       "    }\n",
       "\n",
       "    .dataframe thead th {\n",
       "        text-align: right;\n",
       "    }\n",
       "</style>\n",
       "<table border=\"1\" class=\"dataframe\">\n",
       "  <thead>\n",
       "    <tr style=\"text-align: right;\">\n",
       "      <th></th>\n",
       "      <th>cs_en</th>\n",
       "      <th>de_en</th>\n",
       "      <th>en_fi</th>\n",
       "      <th>en_zh</th>\n",
       "      <th>ru_en</th>\n",
       "      <th>zh_en</th>\n",
       "    </tr>\n",
       "  </thead>\n",
       "  <tbody>\n",
       "    <tr>\n",
       "      <th>Pearson correlation coefficient</th>\n",
       "      <td>-0.458343</td>\n",
       "      <td>-0.338923</td>\n",
       "      <td>-0.611525</td>\n",
       "      <td>-0.438748</td>\n",
       "      <td>-0.356313</td>\n",
       "      <td>-0.346380</td>\n",
       "    </tr>\n",
       "    <tr>\n",
       "      <th>Kendall's τ coefficient</th>\n",
       "      <td>-0.304323</td>\n",
       "      <td>-0.229509</td>\n",
       "      <td>-0.397209</td>\n",
       "      <td>-0.289216</td>\n",
       "      <td>-0.241806</td>\n",
       "      <td>-0.227146</td>\n",
       "    </tr>\n",
       "  </tbody>\n",
       "</table>\n",
       "</div>"
      ],
      "text/plain": [
       "                                    cs_en     de_en     en_fi     en_zh  \\\n",
       "Pearson correlation coefficient -0.458343 -0.338923 -0.611525 -0.438748   \n",
       "Kendall's τ coefficient         -0.304323 -0.229509 -0.397209 -0.289216   \n",
       "\n",
       "                                    ru_en     zh_en  \n",
       "Pearson correlation coefficient -0.356313 -0.346380  \n",
       "Kendall's τ coefficient         -0.241806 -0.227146  "
      ]
     },
     "execution_count": 28,
     "metadata": {},
     "output_type": "execute_result"
    }
   ],
   "source": [
    "pd.DataFrame(results, index=['Pearson correlation coefficient', \"Kendall's τ coefficient\"])"
   ]
  },
  {
   "cell_type": "code",
   "execution_count": null,
   "id": "6205b5bb",
   "metadata": {},
   "outputs": [],
   "source": []
  }
 ],
 "metadata": {
  "kernelspec": {
   "display_name": "Python 3",
   "language": "python",
   "name": "python3"
  },
  "language_info": {
   "codemirror_mode": {
    "name": "ipython",
    "version": 3
   },
   "file_extension": ".py",
   "mimetype": "text/x-python",
   "name": "python",
   "nbconvert_exporter": "python",
   "pygments_lexer": "ipython3",
   "version": "3.8.8"
  }
 },
 "nbformat": 4,
 "nbformat_minor": 5
}
