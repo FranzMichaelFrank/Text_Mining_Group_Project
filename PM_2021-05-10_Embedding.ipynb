{
 "cells": [
  {
   "cell_type": "code",
   "execution_count": 1,
   "id": "ca0cb287",
   "metadata": {},
   "outputs": [
    {
     "name": "stderr",
     "output_type": "stream",
     "text": [
      "/Users/philippmetzger/anaconda3/envs/tm_pip_3/lib/python3.8/site-packages/gensim/similarities/__init__.py:15: UserWarning: The gensim.similarities.levenshtein submodule is disabled, because the optional Levenshtein package <https://pypi.org/project/python-Levenshtein/> is unavailable. Install Levenhstein (e.g. `pip install python-Levenshtein`) to suppress this warning.\n",
      "  warnings.warn(msg)\n"
     ]
    }
   ],
   "source": [
    "from word_mover_distance import model\n",
    "import torchtext.vocab as vocab\n",
    "import numpy as np\n",
    "import pandas as pd\n",
    "from tqdm.notebook import tqdm\n",
    "from scipy.stats import pearsonr\n",
    "from scipy.stats import kendalltau\n",
    "import re\n",
    "import matplotlib.pyplot as plt\n",
    "from nltk import download\n",
    "from nltk.corpus import stopwords\n",
    "import torch"
   ]
  },
  {
   "cell_type": "markdown",
   "id": "b7fc37d9",
   "metadata": {},
   "source": [
    "# Load data"
   ]
  },
  {
   "cell_type": "code",
   "execution_count": 2,
   "id": "aad3ead0",
   "metadata": {},
   "outputs": [],
   "source": [
    "path_corpus = \"/Users/philippmetzger/OneDrive/PHILIPP/NOVA IMS/2nd Semester/06 Text Mining 4 ECTS/00 Project/corpus/\"\n",
    "cs_en = pd.read_csv(path_corpus + \"cs-en/scores.csv\")\n",
    "de_en = pd.read_csv(path_corpus + \"de-en/scores.csv\")\n",
    "en_fi = pd.read_csv(path_corpus + \"en-fi/scores.csv\")\n",
    "en_zh = pd.read_csv(path_corpus + \"en-zh/scores.csv\")\n",
    "ru_en = pd.read_csv(path_corpus + \"ru-en/scores.csv\")\n",
    "zh_en = pd.read_csv(path_corpus + \"zh-en/scores.csv\")"
   ]
  },
  {
   "cell_type": "code",
   "execution_count": 3,
   "id": "5586cf2f",
   "metadata": {},
   "outputs": [
    {
     "data": {
      "text/html": [
       "<div>\n",
       "<style scoped>\n",
       "    .dataframe tbody tr th:only-of-type {\n",
       "        vertical-align: middle;\n",
       "    }\n",
       "\n",
       "    .dataframe tbody tr th {\n",
       "        vertical-align: top;\n",
       "    }\n",
       "\n",
       "    .dataframe thead th {\n",
       "        text-align: right;\n",
       "    }\n",
       "</style>\n",
       "<table border=\"1\" class=\"dataframe\">\n",
       "  <thead>\n",
       "    <tr style=\"text-align: right;\">\n",
       "      <th></th>\n",
       "      <th>rows</th>\n",
       "      <th>avg z-score</th>\n",
       "      <th>avg avg-score</th>\n",
       "      <th>avg annotators</th>\n",
       "    </tr>\n",
       "    <tr>\n",
       "      <th>description</th>\n",
       "      <th></th>\n",
       "      <th></th>\n",
       "      <th></th>\n",
       "      <th></th>\n",
       "    </tr>\n",
       "  </thead>\n",
       "  <tbody>\n",
       "    <tr>\n",
       "      <th>Russian into English</th>\n",
       "      <td>17980.0</td>\n",
       "      <td>0.01</td>\n",
       "      <td>74.50</td>\n",
       "      <td>1.30</td>\n",
       "    </tr>\n",
       "    <tr>\n",
       "      <th>German into English</th>\n",
       "      <td>21704.0</td>\n",
       "      <td>0.00</td>\n",
       "      <td>71.85</td>\n",
       "      <td>1.50</td>\n",
       "    </tr>\n",
       "    <tr>\n",
       "      <th>Czech into English</th>\n",
       "      <td>11585.0</td>\n",
       "      <td>-0.03</td>\n",
       "      <td>69.24</td>\n",
       "      <td>1.89</td>\n",
       "    </tr>\n",
       "    <tr>\n",
       "      <th>Chinese into English</th>\n",
       "      <td>26419.0</td>\n",
       "      <td>-0.05</td>\n",
       "      <td>66.06</td>\n",
       "      <td>1.42</td>\n",
       "    </tr>\n",
       "    <tr>\n",
       "      <th>English into Chinese</th>\n",
       "      <td>10221.0</td>\n",
       "      <td>-0.06</td>\n",
       "      <td>65.98</td>\n",
       "      <td>1.58</td>\n",
       "    </tr>\n",
       "    <tr>\n",
       "      <th>English into Finish</th>\n",
       "      <td>6748.0</td>\n",
       "      <td>-0.14</td>\n",
       "      <td>45.12</td>\n",
       "      <td>1.23</td>\n",
       "    </tr>\n",
       "  </tbody>\n",
       "</table>\n",
       "</div>"
      ],
      "text/plain": [
       "                         rows  avg z-score  avg avg-score  avg annotators\n",
       "description                                                              \n",
       "Russian into English  17980.0         0.01          74.50            1.30\n",
       "German into English   21704.0         0.00          71.85            1.50\n",
       "Czech into English    11585.0        -0.03          69.24            1.89\n",
       "Chinese into English  26419.0        -0.05          66.06            1.42\n",
       "English into Chinese  10221.0        -0.06          65.98            1.58\n",
       "English into Finish    6748.0        -0.14          45.12            1.23"
      ]
     },
     "execution_count": 3,
     "metadata": {},
     "output_type": "execute_result"
    }
   ],
   "source": [
    "descriptions = [\"Russian into English\", \"German into English\", \"Czech into English\", \"Chinese into English\", \"English into Chinese\", \"English into Finish\"]\n",
    "\n",
    "rows = []\n",
    "zscores = []\n",
    "avgscores = []\n",
    "annots = []\n",
    "\n",
    "i = 0\n",
    "\n",
    "for element in [ru_en, de_en, cs_en, zh_en, en_zh, en_fi]:\n",
    "    rows.append(element.shape[0])\n",
    "    zscores.append(np.round(element[\"z-score\"].mean(),2))\n",
    "    avgscores.append(np.round(element[\"avg-score\"].mean(), 2))\n",
    "    annots.append(np.round(element[\"annotators\"].mean(),2))\n",
    "    i += 1                   \n",
    "    \n",
    "exploration_df = pd.DataFrame([rows, zscores, avgscores, annots]).T.rename(columns={0:\"rows\", 1:\"avg z-score\", 2:\"avg avg-score\", 3:\"avg annotators\"})\n",
    "exploration_df[\"description\"] = descriptions\n",
    "exploration_df = exploration_df.set_index(\"description\")\n",
    "exploration_df"
   ]
  },
  {
   "cell_type": "markdown",
   "id": "4cc739fe",
   "metadata": {},
   "source": [
    "# Naive implementation inspired by Word Mover's distance"
   ]
  },
  {
   "cell_type": "code",
   "execution_count": 4,
   "id": "fe9f6d47",
   "metadata": {},
   "outputs": [],
   "source": [
    "def get_word(word):\n",
    "    return glove.vectors[glove.stoi[word]]"
   ]
  },
  {
   "cell_type": "code",
   "execution_count": 6,
   "id": "c5626002",
   "metadata": {},
   "outputs": [
    {
     "name": "stdout",
     "output_type": "stream",
     "text": [
      "Loaded 400000 words\n"
     ]
    }
   ],
   "source": [
    "glove = vocab.GloVe(name='6B', dim=50)\n",
    "print('Loaded {} words'.format(len(glove.itos)))"
   ]
  },
  {
   "cell_type": "code",
   "execution_count": 7,
   "id": "9cf75546",
   "metadata": {},
   "outputs": [
    {
     "data": {
      "application/vnd.jupyter.widget-view+json": {
       "model_id": "98c8b34a3d0f468b84b8317f8784f18b",
       "version_major": 2,
       "version_minor": 0
      },
      "text/plain": [
       "  0%|          | 0/21704 [00:00<?, ?it/s]"
      ]
     },
     "metadata": {},
     "output_type": "display_data"
    }
   ],
   "source": [
    "distances = []\n",
    "\n",
    "for i in tqdm(range(de_en.shape[0])):\n",
    "    \n",
    "    over = False\n",
    "\n",
    "    a = de_en.iloc[i,1]\n",
    "    b = de_en.iloc[i,2]\n",
    "\n",
    "    a = a.lower()\n",
    "    a = re.sub(\"[^a-z]\", ' ', a)\n",
    "    a = a.split()\n",
    "\n",
    "    b = b.lower()\n",
    "    b = re.sub(\"[^a-z]\", ' ', b)\n",
    "    b = b.split()\n",
    "\n",
    "    # Uncommenting the following two lines worsens the correlation\n",
    "    #a = [word for word in a if word not in stop]\n",
    "    #b = [word for word in b if word not in stop]\n",
    "\n",
    "    len_pre_oov1 = len(a)\n",
    "    len_pre_oov2 = len(b)\n",
    "    a = [token for token in a if token in glove.itos]\n",
    "    b = [token for token in b if token in glove.itos]\n",
    "    diff1 = len_pre_oov1 - len(a)\n",
    "    diff2 = len_pre_oov2 - len(b)\n",
    "\n",
    "    if len(a) == 0 or len(b) == 0:\n",
    "        #print('At least one of the documents had no words that were in the vocabulary. Aborting (returning inf).')\n",
    "        dist = -1\n",
    "        over = True\n",
    "\n",
    "    if not over:\n",
    "        dist = 0\n",
    "        for word_a in a:\n",
    "            distances_this = []\n",
    "            for word_b in b:\n",
    "\n",
    "                distances_this.append(torch.dist(get_word(word_a), get_word(word_b)))\n",
    "\n",
    "            min_dist = min(distances_this)\n",
    "\n",
    "            dist += min_dist\n",
    "    \n",
    "    distances.append(dist)\n",
    "\n",
    "max_dist = max(distances)\n",
    "distances = [max_dist if dist == -1 else dist for dist in distances]"
   ]
  },
  {
   "cell_type": "code",
   "execution_count": 8,
   "id": "6a10fa83",
   "metadata": {},
   "outputs": [
    {
     "data": {
      "text/plain": [
       "-0.1648361559689596"
      ]
     },
     "execution_count": 8,
     "metadata": {},
     "output_type": "execute_result"
    }
   ],
   "source": [
    "pearsonr(de_en['avg-score'], distances)[0]"
   ]
  },
  {
   "cell_type": "code",
   "execution_count": 9,
   "id": "5e148ef0",
   "metadata": {},
   "outputs": [
    {
     "data": {
      "text/plain": [
       "-0.1396207216132029"
      ]
     },
     "execution_count": 9,
     "metadata": {},
     "output_type": "execute_result"
    }
   ],
   "source": [
    "kendalltau(de_en['avg-score'], distances)[0]"
   ]
  },
  {
   "cell_type": "markdown",
   "id": "a95037c5",
   "metadata": {},
   "source": [
    "# Word mover's distance\n",
    "https://pypi.org/project/word-mover-distance/#description"
   ]
  },
  {
   "cell_type": "markdown",
   "id": "9ccc3dcf",
   "metadata": {},
   "source": [
    "## Convert the embedding model into a dictionary and pass it to word_mover_distance"
   ]
  },
  {
   "cell_type": "code",
   "execution_count": 10,
   "id": "7c4cbf6c",
   "metadata": {},
   "outputs": [],
   "source": [
    "glove_dict = {}\n",
    "\n",
    "for i in range(len(glove.vectors)):\n",
    "    glove_dict[glove.itos[i]] = glove.vectors[i].numpy()"
   ]
  },
  {
   "cell_type": "code",
   "execution_count": 11,
   "id": "a9778eb4",
   "metadata": {},
   "outputs": [],
   "source": [
    "my_model = model.WordEmbedding(model=glove_dict)"
   ]
  },
  {
   "cell_type": "markdown",
   "id": "044bab19",
   "metadata": {},
   "source": [
    "## Test word_mover_distance"
   ]
  },
  {
   "cell_type": "code",
   "execution_count": 12,
   "id": "9c50c19f",
   "metadata": {},
   "outputs": [
    {
     "data": {
      "text/plain": [
       "1.8119693993679309"
      ]
     },
     "execution_count": 12,
     "metadata": {},
     "output_type": "execute_result"
    }
   ],
   "source": [
    "s1 = 'Obama speaks to the media in Chicago'.lower().split()\n",
    "s2 = 'The president spoke to the press in Chicago'.lower().split()\n",
    "wmdistance = my_model.wmdistance(s1, s2)\n",
    "wmdistance"
   ]
  },
  {
   "cell_type": "markdown",
   "id": "9c4351b9",
   "metadata": {},
   "source": [
    "1.8119693993679309"
   ]
  },
  {
   "cell_type": "markdown",
   "id": "df95ebd5",
   "metadata": {},
   "source": [
    "## Use word_mover_distance on our data"
   ]
  },
  {
   "cell_type": "markdown",
   "id": "aeeaaa6c",
   "metadata": {},
   "source": [
    "### Version 1: With stopword removal"
   ]
  },
  {
   "cell_type": "code",
   "execution_count": 13,
   "id": "ab7e8bfb",
   "metadata": {},
   "outputs": [],
   "source": [
    "stop = stopwords.words('english')"
   ]
  },
  {
   "cell_type": "code",
   "execution_count": 14,
   "id": "8bd4068a",
   "metadata": {},
   "outputs": [
    {
     "data": {
      "application/vnd.jupyter.widget-view+json": {
       "model_id": "38f66e713d6f4e9491f294ee7cbe281a",
       "version_major": 2,
       "version_minor": 0
      },
      "text/plain": [
       "  0%|          | 0/21704 [00:00<?, ?it/s]"
      ]
     },
     "metadata": {},
     "output_type": "display_data"
    }
   ],
   "source": [
    "data = de_en\n",
    "\n",
    "wmdistances = []\n",
    "\n",
    "for row in tqdm(range(data.shape[0])):\n",
    "    \n",
    "    s1 = data.iloc[row,1]\n",
    "    s2 = data.iloc[row,2]\n",
    "    \n",
    "    s1 = s1.lower()\n",
    "    s1 = re.sub(\"[^a-z]\", ' ', s1)\n",
    "    s1 = s1.split()\n",
    "    \n",
    "    s2 = s2.lower()\n",
    "    s2 = re.sub(\"[^a-z]\", ' ', s2)\n",
    "    s2 = s2.split()\n",
    "    \n",
    "    s1 = [word for word in s1 if word not in stop]\n",
    "    s2 = [word for word in s2 if word not in stop]\n",
    "    \n",
    "    wmdistance = my_model.wmdistance(s1, s2)\n",
    "    wmdistances.append(wmdistance)"
   ]
  },
  {
   "cell_type": "markdown",
   "id": "6cd3a82f",
   "metadata": {},
   "source": [
    "#### Replace inf values by maximum"
   ]
  },
  {
   "cell_type": "code",
   "execution_count": 15,
   "id": "fa0a3c34",
   "metadata": {},
   "outputs": [],
   "source": [
    "wmdistances2 = [-1 if dist == np.inf else dist for dist in wmdistances]\n",
    "max_dist = max(wmdistances2)\n",
    "wmdistances2 = [max_dist if dist == -1 else dist for dist in wmdistances2]"
   ]
  },
  {
   "cell_type": "code",
   "execution_count": 16,
   "id": "45af294e",
   "metadata": {},
   "outputs": [
    {
     "data": {
      "text/plain": [
       "-0.27926436711081465"
      ]
     },
     "execution_count": 16,
     "metadata": {},
     "output_type": "execute_result"
    }
   ],
   "source": [
    "pearsonr(de_en['avg-score'], wmdistances2)[0]"
   ]
  },
  {
   "cell_type": "code",
   "execution_count": 17,
   "id": "c2314ef0",
   "metadata": {},
   "outputs": [
    {
     "data": {
      "text/plain": [
       "-0.20792525828577252"
      ]
     },
     "execution_count": 17,
     "metadata": {},
     "output_type": "execute_result"
    }
   ],
   "source": [
    "kendalltau(de_en['avg-score'], wmdistances2)[0]"
   ]
  },
  {
   "cell_type": "markdown",
   "id": "2e155a05",
   "metadata": {},
   "source": [
    "#### Replace inf values by maximum/2"
   ]
  },
  {
   "cell_type": "code",
   "execution_count": 18,
   "id": "c9e0a2d2",
   "metadata": {},
   "outputs": [],
   "source": [
    "wmdistances2 = [-1 if dist == np.inf else dist for dist in wmdistances]\n",
    "\n",
    "wmdistances2 = [(max_dist/2) if dist == -1 else dist for dist in wmdistances2]"
   ]
  },
  {
   "cell_type": "code",
   "execution_count": 19,
   "id": "0db69716",
   "metadata": {},
   "outputs": [
    {
     "data": {
      "text/plain": [
       "-0.2931366960034692"
      ]
     },
     "execution_count": 19,
     "metadata": {},
     "output_type": "execute_result"
    }
   ],
   "source": [
    "pearsonr(de_en['avg-score'], wmdistances2)[0]"
   ]
  },
  {
   "cell_type": "code",
   "execution_count": 20,
   "id": "128641c4",
   "metadata": {},
   "outputs": [
    {
     "data": {
      "text/plain": [
       "-0.2081883157171871"
      ]
     },
     "execution_count": 20,
     "metadata": {},
     "output_type": "execute_result"
    }
   ],
   "source": [
    "kendalltau(de_en['avg-score'], wmdistances2)[0]"
   ]
  },
  {
   "cell_type": "markdown",
   "id": "f2d4ad49",
   "metadata": {},
   "source": [
    "### Version 2: Without stopword removal"
   ]
  },
  {
   "cell_type": "code",
   "execution_count": 21,
   "id": "68c9e71f",
   "metadata": {},
   "outputs": [
    {
     "data": {
      "application/vnd.jupyter.widget-view+json": {
       "model_id": "2a2f89d9689c45b594cd05647b7e565e",
       "version_major": 2,
       "version_minor": 0
      },
      "text/plain": [
       "  0%|          | 0/21704 [00:00<?, ?it/s]"
      ]
     },
     "metadata": {},
     "output_type": "display_data"
    }
   ],
   "source": [
    "data = de_en\n",
    "\n",
    "wmdistances = []\n",
    "\n",
    "for row in tqdm(range(data.shape[0])):\n",
    "    \n",
    "    s1 = data.iloc[row,1]\n",
    "    s2 = data.iloc[row,2]\n",
    "    \n",
    "    s1 = s1.lower()\n",
    "    s1 = re.sub(\"[^a-z]\", ' ', s1)\n",
    "    s1 = s1.split()\n",
    "    \n",
    "    s2 = s2.lower()\n",
    "    s2 = re.sub(\"[^a-z]\", ' ', s2)\n",
    "    s2 = s2.split()\n",
    "    \n",
    "    wmdistance = my_model.wmdistance(s1, s2)\n",
    "    wmdistances.append(wmdistance)"
   ]
  },
  {
   "cell_type": "markdown",
   "id": "0dcb80b0",
   "metadata": {},
   "source": [
    "#### Replace inf values by maximum"
   ]
  },
  {
   "cell_type": "code",
   "execution_count": 22,
   "id": "4366915d",
   "metadata": {},
   "outputs": [],
   "source": [
    "wmdistances2 = [-1 if dist == np.inf else dist for dist in wmdistances]\n",
    "max_dist = max(wmdistances2)\n",
    "wmdistances2 = [max_dist if dist == -1 else dist for dist in wmdistances2]"
   ]
  },
  {
   "cell_type": "code",
   "execution_count": 23,
   "id": "f6eee65c",
   "metadata": {},
   "outputs": [
    {
     "data": {
      "text/plain": [
       "-0.30853318447232847"
      ]
     },
     "execution_count": 23,
     "metadata": {},
     "output_type": "execute_result"
    }
   ],
   "source": [
    "pearsonr(de_en['avg-score'], wmdistances2)[0]"
   ]
  },
  {
   "cell_type": "code",
   "execution_count": 24,
   "id": "e90f1e49",
   "metadata": {},
   "outputs": [
    {
     "data": {
      "text/plain": [
       "-0.2168328261851982"
      ]
     },
     "execution_count": 24,
     "metadata": {},
     "output_type": "execute_result"
    }
   ],
   "source": [
    "kendalltau(de_en['avg-score'], wmdistances2)[0]"
   ]
  },
  {
   "cell_type": "markdown",
   "id": "c21ae447",
   "metadata": {},
   "source": [
    "#### Replace inf values by maximum/2"
   ]
  },
  {
   "cell_type": "code",
   "execution_count": 25,
   "id": "b427b30a",
   "metadata": {},
   "outputs": [],
   "source": [
    "wmdistances2 = [-1 if dist == np.inf else dist for dist in wmdistances]\n",
    "\n",
    "wmdistances2 = [(max_dist/2) if dist == -1 else dist for dist in wmdistances2]"
   ]
  },
  {
   "cell_type": "code",
   "execution_count": 26,
   "id": "0cca447c",
   "metadata": {},
   "outputs": [
    {
     "data": {
      "text/plain": [
       "-0.30882340005334613"
      ]
     },
     "execution_count": 26,
     "metadata": {},
     "output_type": "execute_result"
    }
   ],
   "source": [
    "pearsonr(de_en['avg-score'], wmdistances2)[0]"
   ]
  },
  {
   "cell_type": "code",
   "execution_count": 27,
   "id": "65b37ea7",
   "metadata": {},
   "outputs": [
    {
     "data": {
      "text/plain": [
       "-0.2168229814123602"
      ]
     },
     "execution_count": 27,
     "metadata": {},
     "output_type": "execute_result"
    }
   ],
   "source": [
    "kendalltau(de_en['avg-score'], wmdistances2)[0]"
   ]
  },
  {
   "cell_type": "code",
   "execution_count": null,
   "id": "0dbc629d",
   "metadata": {},
   "outputs": [],
   "source": []
  },
  {
   "cell_type": "code",
   "execution_count": null,
   "id": "952503d4",
   "metadata": {},
   "outputs": [],
   "source": []
  }
 ],
 "metadata": {
  "kernelspec": {
   "display_name": "Python 3",
   "language": "python",
   "name": "python3"
  },
  "language_info": {
   "codemirror_mode": {
    "name": "ipython",
    "version": 3
   },
   "file_extension": ".py",
   "mimetype": "text/x-python",
   "name": "python",
   "nbconvert_exporter": "python",
   "pygments_lexer": "ipython3",
   "version": "3.8.8"
  }
 },
 "nbformat": 4,
 "nbformat_minor": 5
}
