{
 "cells": [
  {
   "cell_type": "code",
   "execution_count": 1,
   "id": "48705004",
   "metadata": {},
   "outputs": [
    {
     "name": "stderr",
     "output_type": "stream",
     "text": [
      "/Users/philippmetzger/anaconda3/envs/tm_pip_3/lib/python3.8/site-packages/gensim/similarities/__init__.py:15: UserWarning: The gensim.similarities.levenshtein submodule is disabled, because the optional Levenshtein package <https://pypi.org/project/python-Levenshtein/> is unavailable. Install Levenhstein (e.g. `pip install python-Levenshtein`) to suppress this warning.\n",
      "  warnings.warn(msg)\n"
     ]
    }
   ],
   "source": [
    "from word_mover_distance import model\n",
    "import torchtext.vocab as vocab\n",
    "import numpy as np\n",
    "import pandas as pd\n",
    "from tqdm.notebook import tqdm\n",
    "from scipy.stats import pearsonr\n",
    "from scipy.stats import kendalltau\n",
    "import re\n",
    "import matplotlib.pyplot as plt\n",
    "from nltk import download\n",
    "from nltk.corpus import stopwords\n",
    "import torch\n",
    "import bert_score"
   ]
  },
  {
   "cell_type": "markdown",
   "id": "fa2cd558",
   "metadata": {},
   "source": [
    "# Load data"
   ]
  },
  {
   "cell_type": "code",
   "execution_count": 13,
   "id": "333013f8",
   "metadata": {},
   "outputs": [],
   "source": [
    "path_corpus = \"/Users/philippmetzger/OneDrive/PHILIPP/NOVA IMS/2nd Semester/06 Text Mining 4 ECTS/00 Project/corpus/\"\n",
    "cs_en = pd.read_csv(path_corpus + \"cs-en/scores.csv\")\n",
    "de_en = pd.read_csv(path_corpus + \"de-en/scores.csv\")\n",
    "en_fi = pd.read_csv(path_corpus + \"en-fi/scores.csv\")\n",
    "en_zh = pd.read_csv(path_corpus + \"en-zh/scores.csv\")\n",
    "ru_en = pd.read_csv(path_corpus + \"ru-en/scores.csv\")\n",
    "zh_en = pd.read_csv(path_corpus + \"zh-en/scores.csv\")"
   ]
  },
  {
   "cell_type": "code",
   "execution_count": 14,
   "id": "6b1caebc",
   "metadata": {},
   "outputs": [],
   "source": [
    "data_list = [cs_en, de_en, en_fi, en_zh, ru_en, zh_en]\n",
    "names_list = ['cs_en', 'de_en', 'en_fi', 'en_zh', 'ru_en', 'zh_en']"
   ]
  },
  {
   "cell_type": "code",
   "execution_count": 15,
   "id": "bf9ffa8d",
   "metadata": {},
   "outputs": [
    {
     "data": {
      "text/html": [
       "<div>\n",
       "<style scoped>\n",
       "    .dataframe tbody tr th:only-of-type {\n",
       "        vertical-align: middle;\n",
       "    }\n",
       "\n",
       "    .dataframe tbody tr th {\n",
       "        vertical-align: top;\n",
       "    }\n",
       "\n",
       "    .dataframe thead th {\n",
       "        text-align: right;\n",
       "    }\n",
       "</style>\n",
       "<table border=\"1\" class=\"dataframe\">\n",
       "  <thead>\n",
       "    <tr style=\"text-align: right;\">\n",
       "      <th></th>\n",
       "      <th>rows</th>\n",
       "      <th>avg z-score</th>\n",
       "      <th>avg avg-score</th>\n",
       "      <th>avg annotators</th>\n",
       "    </tr>\n",
       "    <tr>\n",
       "      <th>description</th>\n",
       "      <th></th>\n",
       "      <th></th>\n",
       "      <th></th>\n",
       "      <th></th>\n",
       "    </tr>\n",
       "  </thead>\n",
       "  <tbody>\n",
       "    <tr>\n",
       "      <th>Russian into English</th>\n",
       "      <td>17980.0</td>\n",
       "      <td>0.01</td>\n",
       "      <td>74.50</td>\n",
       "      <td>1.30</td>\n",
       "    </tr>\n",
       "    <tr>\n",
       "      <th>German into English</th>\n",
       "      <td>21704.0</td>\n",
       "      <td>0.00</td>\n",
       "      <td>71.85</td>\n",
       "      <td>1.50</td>\n",
       "    </tr>\n",
       "    <tr>\n",
       "      <th>Czech into English</th>\n",
       "      <td>11585.0</td>\n",
       "      <td>-0.03</td>\n",
       "      <td>69.24</td>\n",
       "      <td>1.89</td>\n",
       "    </tr>\n",
       "    <tr>\n",
       "      <th>Chinese into English</th>\n",
       "      <td>26419.0</td>\n",
       "      <td>-0.05</td>\n",
       "      <td>66.06</td>\n",
       "      <td>1.42</td>\n",
       "    </tr>\n",
       "    <tr>\n",
       "      <th>English into Chinese</th>\n",
       "      <td>10221.0</td>\n",
       "      <td>-0.06</td>\n",
       "      <td>65.98</td>\n",
       "      <td>1.58</td>\n",
       "    </tr>\n",
       "    <tr>\n",
       "      <th>English into Finish</th>\n",
       "      <td>6748.0</td>\n",
       "      <td>-0.14</td>\n",
       "      <td>45.12</td>\n",
       "      <td>1.23</td>\n",
       "    </tr>\n",
       "  </tbody>\n",
       "</table>\n",
       "</div>"
      ],
      "text/plain": [
       "                         rows  avg z-score  avg avg-score  avg annotators\n",
       "description                                                              \n",
       "Russian into English  17980.0         0.01          74.50            1.30\n",
       "German into English   21704.0         0.00          71.85            1.50\n",
       "Czech into English    11585.0        -0.03          69.24            1.89\n",
       "Chinese into English  26419.0        -0.05          66.06            1.42\n",
       "English into Chinese  10221.0        -0.06          65.98            1.58\n",
       "English into Finish    6748.0        -0.14          45.12            1.23"
      ]
     },
     "execution_count": 15,
     "metadata": {},
     "output_type": "execute_result"
    }
   ],
   "source": [
    "descriptions = [\"Russian into English\", \"German into English\", \"Czech into English\", \"Chinese into English\", \"English into Chinese\", \"English into Finish\"]\n",
    "\n",
    "rows = []\n",
    "zscores = []\n",
    "avgscores = []\n",
    "annots = []\n",
    "\n",
    "i = 0\n",
    "\n",
    "for element in [ru_en, de_en, cs_en, zh_en, en_zh, en_fi]:\n",
    "    rows.append(element.shape[0])\n",
    "    zscores.append(np.round(element[\"z-score\"].mean(),2))\n",
    "    avgscores.append(np.round(element[\"avg-score\"].mean(), 2))\n",
    "    annots.append(np.round(element[\"annotators\"].mean(),2))\n",
    "    i += 1                   \n",
    "    \n",
    "exploration_df = pd.DataFrame([rows, zscores, avgscores, annots]).T.rename(columns={0:\"rows\", 1:\"avg z-score\", 2:\"avg avg-score\", 3:\"avg annotators\"})\n",
    "exploration_df[\"description\"] = descriptions\n",
    "exploration_df = exploration_df.set_index(\"description\")\n",
    "exploration_df"
   ]
  },
  {
   "cell_type": "code",
   "execution_count": 16,
   "id": "fda69246",
   "metadata": {},
   "outputs": [
    {
     "data": {
      "text/html": [
       "<div>\n",
       "<style scoped>\n",
       "    .dataframe tbody tr th:only-of-type {\n",
       "        vertical-align: middle;\n",
       "    }\n",
       "\n",
       "    .dataframe tbody tr th {\n",
       "        vertical-align: top;\n",
       "    }\n",
       "\n",
       "    .dataframe thead th {\n",
       "        text-align: right;\n",
       "    }\n",
       "</style>\n",
       "<table border=\"1\" class=\"dataframe\">\n",
       "  <thead>\n",
       "    <tr style=\"text-align: right;\">\n",
       "      <th></th>\n",
       "      <th>source</th>\n",
       "      <th>reference</th>\n",
       "      <th>translation</th>\n",
       "      <th>z-score</th>\n",
       "      <th>avg-score</th>\n",
       "      <th>annotators</th>\n",
       "    </tr>\n",
       "  </thead>\n",
       "  <tbody>\n",
       "    <tr>\n",
       "      <th>0</th>\n",
       "      <td>\"In the GISS model's simulation, Venus' slow s...</td>\n",
       "      <td>GSIS的科学家AnthonyDelGenio在新闻稿中解释说：“在GISS模型的模拟模型中...</td>\n",
       "      <td>戈达德太空研究所科学家安东尼·德尔·杰尼奥在新闻发布会上解释说：“在戈达德太空研究所的模型模...</td>\n",
       "      <td>-1.171867</td>\n",
       "      <td>50.0</td>\n",
       "      <td>1</td>\n",
       "    </tr>\n",
       "    <tr>\n",
       "      <th>1</th>\n",
       "      <td>Ai Yanhan of China in the Women's 4 x 200m Fre...</td>\n",
       "      <td>中国在英国女性4x200mFreestreyWTE中的最后被称为：“中国14岁的孩子从球下降...</td>\n",
       "      <td>参加女子4x200米自由泳接力赛决赛的中国小将艾衍含被这样描述：“那名14岁的中国小姑娘犯了...</td>\n",
       "      <td>-2.255403</td>\n",
       "      <td>26.5</td>\n",
       "      <td>2</td>\n",
       "    </tr>\n",
       "    <tr>\n",
       "      <th>2</th>\n",
       "      <td>Then came 2012, when nothing much went right f...</td>\n",
       "      <td>然后来到2012年，当她和她的队友们没有什么好处。</td>\n",
       "      <td>2012年，她和她的队友都不被看好。</td>\n",
       "      <td>-2.508996</td>\n",
       "      <td>21.0</td>\n",
       "      <td>1</td>\n",
       "    </tr>\n",
       "    <tr>\n",
       "      <th>3</th>\n",
       "      <td>Since last year, Guodian Group has exported a ...</td>\n",
       "      <td>自去年以来，GoudianGroup从南非通过南非港口出口了163套风力发电项目。</td>\n",
       "      <td>自去年以来，国电集团共计有163套风电项目陆续从连云港港出口南非。</td>\n",
       "      <td>-2.416780</td>\n",
       "      <td>23.0</td>\n",
       "      <td>1</td>\n",
       "    </tr>\n",
       "    <tr>\n",
       "      <th>4</th>\n",
       "      <td>Some alleged that the Kempinski hotel simply \"...</td>\n",
       "      <td>一些人指称，Kempinski旅馆只是\"被捕\"，以满足阿拉伯客户的要求。</td>\n",
       "      <td>有人认为凯宾斯基酒店简直是为了满足阿拉伯客户的要求而“卑躬屈膝”。</td>\n",
       "      <td>-1.489676</td>\n",
       "      <td>45.0</td>\n",
       "      <td>7</td>\n",
       "    </tr>\n",
       "  </tbody>\n",
       "</table>\n",
       "</div>"
      ],
      "text/plain": [
       "                                              source  \\\n",
       "0  \"In the GISS model's simulation, Venus' slow s...   \n",
       "1  Ai Yanhan of China in the Women's 4 x 200m Fre...   \n",
       "2  Then came 2012, when nothing much went right f...   \n",
       "3  Since last year, Guodian Group has exported a ...   \n",
       "4  Some alleged that the Kempinski hotel simply \"...   \n",
       "\n",
       "                                           reference  \\\n",
       "0  GSIS的科学家AnthonyDelGenio在新闻稿中解释说：“在GISS模型的模拟模型中...   \n",
       "1  中国在英国女性4x200mFreestreyWTE中的最后被称为：“中国14岁的孩子从球下降...   \n",
       "2                          然后来到2012年，当她和她的队友们没有什么好处。   \n",
       "3          自去年以来，GoudianGroup从南非通过南非港口出口了163套风力发电项目。   \n",
       "4               一些人指称，Kempinski旅馆只是\"被捕\"，以满足阿拉伯客户的要求。   \n",
       "\n",
       "                                         translation   z-score  avg-score  \\\n",
       "0  戈达德太空研究所科学家安东尼·德尔·杰尼奥在新闻发布会上解释说：“在戈达德太空研究所的模型模... -1.171867       50.0   \n",
       "1  参加女子4x200米自由泳接力赛决赛的中国小将艾衍含被这样描述：“那名14岁的中国小姑娘犯了... -2.255403       26.5   \n",
       "2                                 2012年，她和她的队友都不被看好。 -2.508996       21.0   \n",
       "3                  自去年以来，国电集团共计有163套风电项目陆续从连云港港出口南非。 -2.416780       23.0   \n",
       "4                  有人认为凯宾斯基酒店简直是为了满足阿拉伯客户的要求而“卑躬屈膝”。 -1.489676       45.0   \n",
       "\n",
       "   annotators  \n",
       "0           1  \n",
       "1           2  \n",
       "2           1  \n",
       "3           1  \n",
       "4           7  "
      ]
     },
     "execution_count": 16,
     "metadata": {},
     "output_type": "execute_result"
    }
   ],
   "source": [
    "data_list[3].head()"
   ]
  },
  {
   "cell_type": "code",
   "execution_count": 6,
   "id": "d1dc2fe2",
   "metadata": {},
   "outputs": [],
   "source": [
    "if False:\n",
    "    list_reference = []\n",
    "    list_translation = []\n",
    "\n",
    "    for item in data_list[3]['reference']:\n",
    "        item = list(item)\n",
    "        item = ' '.join(item)\n",
    "        list_reference.append(item)\n",
    "\n",
    "    for item in data_list[3]['translation']:\n",
    "        item = list(item)\n",
    "        item = ' '.join(item)\n",
    "        list_translation.append(item)\n",
    "\n",
    "    data_list[3]['reference'] = list_reference\n",
    "    data_list[3]['translation'] = list_translation"
   ]
  },
  {
   "cell_type": "code",
   "execution_count": 17,
   "id": "97b6eeb8",
   "metadata": {},
   "outputs": [
    {
     "data": {
      "text/plain": [
       "0        GSIS的科学家AnthonyDelGenio在新闻稿中解释说：“在GISS模型的模拟模型中...\n",
       "1        中国在英国女性4x200mFreestreyWTE中的最后被称为：“中国14岁的孩子从球下降...\n",
       "2                                然后来到2012年，当她和她的队友们没有什么好处。\n",
       "3                自去年以来，GoudianGroup从南非通过南非港口出口了163套风力发电项目。\n",
       "4                     一些人指称，Kempinski旅馆只是\"被捕\"，以满足阿拉伯客户的要求。\n",
       "                               ...                        \n",
       "10216       这不是一个大型的会议，它不是皇家 Ascot -它是一个普通的星期五晚上，有20，000人。\n",
       "10217    这位负责人强调，钢铁产品的国际贸易本质上是一种市场行为，是从进口国的要求和考虑产品成本和其他...\n",
       "10218               她继续浏览，并最终在 Bouverie 广场购物中心的商店里尝试了四双内衣。\n",
       "10219                 但是当他带着女儿参加综艺节目“爸爸，我们去哪里？”时，他成为了一个焦点。\n",
       "10220           行业数据显示，2015年煤炭生产总量接近60亿吨，全国煤炭生产产能过剩达到18亿吨。\n",
       "Name: reference, Length: 10221, dtype: object"
      ]
     },
     "execution_count": 17,
     "metadata": {},
     "output_type": "execute_result"
    }
   ],
   "source": [
    "data_list[3]['reference']"
   ]
  },
  {
   "cell_type": "code",
   "execution_count": 18,
   "id": "0261fdad",
   "metadata": {},
   "outputs": [
    {
     "data": {
      "text/plain": [
       "0        戈达德太空研究所科学家安东尼·德尔·杰尼奥在新闻发布会上解释说：“在戈达德太空研究所的模型模...\n",
       "1        参加女子4x200米自由泳接力赛决赛的中国小将艾衍含被这样描述：“那名14岁的中国小姑娘犯了...\n",
       "2                                       2012年，她和她的队友都不被看好。\n",
       "3                        自去年以来，国电集团共计有163套风电项目陆续从连云港港出口南非。\n",
       "4                        有人认为凯宾斯基酒店简直是为了满足阿拉伯客户的要求而“卑躬屈膝”。\n",
       "                               ...                        \n",
       "10216    这不是一场大规模的赛马会，也不是英国皇家爱斯科赛马会 (Royal Ascot)，这只是一个...\n",
       "10217    这位负责人强调，钢铁产品国际贸易本质上讲是市场行为，是源于进口国需求、消费者综合考虑产品性价...\n",
       "10218    她继续浏览货架，并最终在位于 Folkestone 的 Bouverie Place 购物中...\n",
       "10219    但在2004年奥运会单人十米台比赛中输给队友胡佳后，田亮的竞技状态出现下滑，并被爆出被跳水队开除。\n",
       "10220              行业数据显示，2015年煤炭产能总规模接近60亿吨，全国煤炭产能过剩18亿吨。\n",
       "Name: translation, Length: 10221, dtype: object"
      ]
     },
     "execution_count": 18,
     "metadata": {},
     "output_type": "execute_result"
    }
   ],
   "source": [
    "data_list[3]['translation']"
   ]
  },
  {
   "cell_type": "markdown",
   "id": "ddb38e93",
   "metadata": {},
   "source": [
    "# Naive implementation inspired by Word Mover's distance"
   ]
  },
  {
   "cell_type": "code",
   "execution_count": 9,
   "id": "0d14ee65",
   "metadata": {},
   "outputs": [],
   "source": [
    "def get_word(word):\n",
    "    return glove.vectors[glove.stoi[word]]"
   ]
  },
  {
   "cell_type": "code",
   "execution_count": 10,
   "id": "95051de6",
   "metadata": {},
   "outputs": [
    {
     "name": "stdout",
     "output_type": "stream",
     "text": [
      "Loaded 400000 words\n"
     ]
    }
   ],
   "source": [
    "glove = vocab.GloVe(name='6B', dim=50)\n",
    "print('Loaded {} words'.format(len(glove.itos)))"
   ]
  },
  {
   "cell_type": "code",
   "execution_count": 7,
   "id": "18d18f67",
   "metadata": {},
   "outputs": [
    {
     "data": {
      "application/vnd.jupyter.widget-view+json": {
       "model_id": "98c8b34a3d0f468b84b8317f8784f18b",
       "version_major": 2,
       "version_minor": 0
      },
      "text/plain": [
       "  0%|          | 0/21704 [00:00<?, ?it/s]"
      ]
     },
     "metadata": {},
     "output_type": "display_data"
    }
   ],
   "source": [
    "distances = []\n",
    "\n",
    "for i in tqdm(range(de_en.shape[0])):\n",
    "    \n",
    "    over = False\n",
    "\n",
    "    a = de_en.iloc[i,1]\n",
    "    b = de_en.iloc[i,2]\n",
    "\n",
    "    a = a.lower()\n",
    "    a = re.sub(\"[^a-z]\", ' ', a)\n",
    "    a = a.split()\n",
    "\n",
    "    b = b.lower()\n",
    "    b = re.sub(\"[^a-z]\", ' ', b)\n",
    "    b = b.split()\n",
    "\n",
    "    # Uncommenting the following two lines worsens the correlation\n",
    "    #a = [word for word in a if word not in stop]\n",
    "    #b = [word for word in b if word not in stop]\n",
    "\n",
    "    len_pre_oov1 = len(a)\n",
    "    len_pre_oov2 = len(b)\n",
    "    a = [token for token in a if token in glove.itos]\n",
    "    b = [token for token in b if token in glove.itos]\n",
    "    diff1 = len_pre_oov1 - len(a)\n",
    "    diff2 = len_pre_oov2 - len(b)\n",
    "\n",
    "    if len(a) == 0 or len(b) == 0:\n",
    "        #print('At least one of the documents had no words that were in the vocabulary. Aborting (returning inf).')\n",
    "        dist = -1\n",
    "        over = True\n",
    "\n",
    "    if not over:\n",
    "        dist = 0\n",
    "        for word_a in a:\n",
    "            distances_this = []\n",
    "            for word_b in b:\n",
    "\n",
    "                distances_this.append(torch.dist(get_word(word_a), get_word(word_b)))\n",
    "\n",
    "            min_dist = min(distances_this)\n",
    "\n",
    "            dist += min_dist\n",
    "    \n",
    "    distances.append(dist)\n",
    "\n",
    "max_dist = max(distances)\n",
    "distances = [max_dist if dist == -1 else dist for dist in distances]"
   ]
  },
  {
   "cell_type": "code",
   "execution_count": 8,
   "id": "be3e8e48",
   "metadata": {},
   "outputs": [
    {
     "data": {
      "text/plain": [
       "-0.1648361559689596"
      ]
     },
     "execution_count": 8,
     "metadata": {},
     "output_type": "execute_result"
    }
   ],
   "source": [
    "pearsonr(de_en['avg-score'], distances)[0]"
   ]
  },
  {
   "cell_type": "markdown",
   "id": "ae117089",
   "metadata": {},
   "source": [
    "-0.1648361559689596"
   ]
  },
  {
   "cell_type": "code",
   "execution_count": 9,
   "id": "f4bb17fa",
   "metadata": {},
   "outputs": [
    {
     "data": {
      "text/plain": [
       "-0.1396207216132029"
      ]
     },
     "execution_count": 9,
     "metadata": {},
     "output_type": "execute_result"
    }
   ],
   "source": [
    "kendalltau(de_en['avg-score'], distances)[0]"
   ]
  },
  {
   "cell_type": "markdown",
   "id": "aa5ebf92",
   "metadata": {},
   "source": [
    "-0.1396207216132029"
   ]
  },
  {
   "cell_type": "markdown",
   "id": "43f91e40",
   "metadata": {},
   "source": [
    "# Word mover's distance\n",
    "https://pypi.org/project/word-mover-distance/#description"
   ]
  },
  {
   "cell_type": "code",
   "execution_count": 49,
   "id": "45f59e73",
   "metadata": {},
   "outputs": [],
   "source": [
    "#!pip install word-mover-distance"
   ]
  },
  {
   "cell_type": "markdown",
   "id": "b2ff26e3",
   "metadata": {},
   "source": [
    "## Convert the embedding model into a dictionary and pass it to word_mover_distance"
   ]
  },
  {
   "cell_type": "code",
   "execution_count": 11,
   "id": "67fb802e",
   "metadata": {},
   "outputs": [],
   "source": [
    "glove_dict = {}\n",
    "\n",
    "for i in range(len(glove.vectors)):\n",
    "    glove_dict[glove.itos[i]] = glove.vectors[i].numpy()"
   ]
  },
  {
   "cell_type": "code",
   "execution_count": 12,
   "id": "bdfde341",
   "metadata": {},
   "outputs": [],
   "source": [
    "my_model = model.WordEmbedding(model=glove_dict)"
   ]
  },
  {
   "cell_type": "markdown",
   "id": "9d482678",
   "metadata": {},
   "source": [
    "## Test word_mover_distance"
   ]
  },
  {
   "cell_type": "code",
   "execution_count": 15,
   "id": "5c00323a",
   "metadata": {},
   "outputs": [
    {
     "data": {
      "text/plain": [
       "1.8119693993679309"
      ]
     },
     "execution_count": 15,
     "metadata": {},
     "output_type": "execute_result"
    }
   ],
   "source": [
    "s1 = 'Obama speaks to the media in Chicago'.lower().split()\n",
    "s2 = 'The president spoke to the press in Chicago'.lower().split()\n",
    "wmdistance = my_model.wmdistance(s1, s2)\n",
    "wmdistance"
   ]
  },
  {
   "cell_type": "markdown",
   "id": "e5328832",
   "metadata": {},
   "source": [
    "1.8119693993679309"
   ]
  },
  {
   "cell_type": "markdown",
   "id": "bec47e78",
   "metadata": {},
   "source": [
    "## Use word_mover_distance on our data"
   ]
  },
  {
   "cell_type": "markdown",
   "id": "3ec70d4b",
   "metadata": {},
   "source": [
    "### Version 1: With stopword removal"
   ]
  },
  {
   "cell_type": "code",
   "execution_count": 13,
   "id": "7a1e9285",
   "metadata": {},
   "outputs": [],
   "source": [
    "stop = stopwords.words('english')"
   ]
  },
  {
   "cell_type": "code",
   "execution_count": 14,
   "id": "9bfbe51b",
   "metadata": {},
   "outputs": [
    {
     "data": {
      "application/vnd.jupyter.widget-view+json": {
       "model_id": "38f66e713d6f4e9491f294ee7cbe281a",
       "version_major": 2,
       "version_minor": 0
      },
      "text/plain": [
       "  0%|          | 0/21704 [00:00<?, ?it/s]"
      ]
     },
     "metadata": {},
     "output_type": "display_data"
    }
   ],
   "source": [
    "data = de_en\n",
    "\n",
    "wmdistances = []\n",
    "\n",
    "for row in tqdm(range(data.shape[0])):\n",
    "    \n",
    "    s1 = data.iloc[row,1]\n",
    "    s2 = data.iloc[row,2]\n",
    "    \n",
    "    s1 = s1.lower()\n",
    "    s1 = re.sub(\"[^a-z]\", ' ', s1)\n",
    "    s1 = s1.split()\n",
    "    \n",
    "    s2 = s2.lower()\n",
    "    s2 = re.sub(\"[^a-z]\", ' ', s2)\n",
    "    s2 = s2.split()\n",
    "    \n",
    "    s1 = [word for word in s1 if word not in stop]\n",
    "    s2 = [word for word in s2 if word not in stop]\n",
    "    \n",
    "    wmdistance = my_model.wmdistance(s1, s2)\n",
    "    wmdistances.append(wmdistance)"
   ]
  },
  {
   "cell_type": "markdown",
   "id": "69bc3083",
   "metadata": {},
   "source": [
    "#### Replace inf values by maximum"
   ]
  },
  {
   "cell_type": "code",
   "execution_count": 15,
   "id": "9139602f",
   "metadata": {},
   "outputs": [],
   "source": [
    "wmdistances2 = [-1 if dist == np.inf else dist for dist in wmdistances]\n",
    "max_dist = max(wmdistances2)\n",
    "wmdistances2 = [max_dist if dist == -1 else dist for dist in wmdistances2]"
   ]
  },
  {
   "cell_type": "code",
   "execution_count": 16,
   "id": "25ec9c93",
   "metadata": {},
   "outputs": [
    {
     "data": {
      "text/plain": [
       "-0.27926436711081465"
      ]
     },
     "execution_count": 16,
     "metadata": {},
     "output_type": "execute_result"
    }
   ],
   "source": [
    "pearsonr(de_en['avg-score'], wmdistances2)[0]"
   ]
  },
  {
   "cell_type": "markdown",
   "id": "520946b9",
   "metadata": {},
   "source": [
    "-0.27926436711081465"
   ]
  },
  {
   "cell_type": "code",
   "execution_count": 17,
   "id": "29b3566d",
   "metadata": {},
   "outputs": [
    {
     "data": {
      "text/plain": [
       "-0.20792525828577252"
      ]
     },
     "execution_count": 17,
     "metadata": {},
     "output_type": "execute_result"
    }
   ],
   "source": [
    "kendalltau(de_en['avg-score'], wmdistances2)[0]"
   ]
  },
  {
   "cell_type": "markdown",
   "id": "7dc1c3c7",
   "metadata": {},
   "source": [
    "-0.20792525828577252"
   ]
  },
  {
   "cell_type": "markdown",
   "id": "803788d6",
   "metadata": {},
   "source": [
    "#### Replace inf values by maximum/2"
   ]
  },
  {
   "cell_type": "code",
   "execution_count": 18,
   "id": "c005c0a9",
   "metadata": {},
   "outputs": [],
   "source": [
    "wmdistances2 = [-1 if dist == np.inf else dist for dist in wmdistances]\n",
    "\n",
    "wmdistances2 = [(max_dist/2) if dist == -1 else dist for dist in wmdistances2]"
   ]
  },
  {
   "cell_type": "code",
   "execution_count": 19,
   "id": "b81137bc",
   "metadata": {},
   "outputs": [
    {
     "data": {
      "text/plain": [
       "-0.2931366960034692"
      ]
     },
     "execution_count": 19,
     "metadata": {},
     "output_type": "execute_result"
    }
   ],
   "source": [
    "pearsonr(de_en['avg-score'], wmdistances2)[0]"
   ]
  },
  {
   "cell_type": "markdown",
   "id": "d8879a1f",
   "metadata": {},
   "source": [
    "-0.2931366960034692"
   ]
  },
  {
   "cell_type": "code",
   "execution_count": 20,
   "id": "b486c6fc",
   "metadata": {},
   "outputs": [
    {
     "data": {
      "text/plain": [
       "-0.2081883157171871"
      ]
     },
     "execution_count": 20,
     "metadata": {},
     "output_type": "execute_result"
    }
   ],
   "source": [
    "kendalltau(de_en['avg-score'], wmdistances2)[0]"
   ]
  },
  {
   "cell_type": "code",
   "execution_count": 6,
   "id": "e479b9eb",
   "metadata": {},
   "outputs": [
    {
     "data": {
      "text/plain": [
       "-0.2081883157171871"
      ]
     },
     "execution_count": 6,
     "metadata": {},
     "output_type": "execute_result"
    }
   ],
   "source": [
    "-0.2081883157171871"
   ]
  },
  {
   "cell_type": "markdown",
   "id": "5b3f8595",
   "metadata": {},
   "source": [
    "### Version 2: Without stopword removal"
   ]
  },
  {
   "cell_type": "code",
   "execution_count": 11,
   "id": "c7e602ba",
   "metadata": {},
   "outputs": [
    {
     "data": {
      "application/vnd.jupyter.widget-view+json": {
       "model_id": "64cf6dfe170c4629a990ec3b89431405",
       "version_major": 2,
       "version_minor": 0
      },
      "text/plain": [
       "  0%|          | 0/21704 [00:00<?, ?it/s]"
      ]
     },
     "metadata": {},
     "output_type": "display_data"
    }
   ],
   "source": [
    "data = de_en\n",
    "\n",
    "wmdistances = []\n",
    "\n",
    "for row in tqdm(range(data.shape[0])):\n",
    "    \n",
    "    s1 = data.iloc[row,1]\n",
    "    s2 = data.iloc[row,2]\n",
    "    \n",
    "    s1 = s1.lower()\n",
    "    s1 = re.sub(\"[^a-z]\", ' ', s1)\n",
    "    s1 = s1.split()\n",
    "    \n",
    "    s2 = s2.lower()\n",
    "    s2 = re.sub(\"[^a-z]\", ' ', s2)\n",
    "    s2 = s2.split()\n",
    "    \n",
    "    wmdistance = my_model.wmdistance(s1, s2)\n",
    "    wmdistances.append(wmdistance)"
   ]
  },
  {
   "cell_type": "markdown",
   "id": "1d6650b6",
   "metadata": {},
   "source": [
    "#### Replace inf values by maximum"
   ]
  },
  {
   "cell_type": "code",
   "execution_count": 22,
   "id": "b43adc51",
   "metadata": {},
   "outputs": [],
   "source": [
    "wmdistances2 = [-1 if dist == np.inf else dist for dist in wmdistances]\n",
    "max_dist = max(wmdistances2)\n",
    "wmdistances2 = [max_dist if dist == -1 else dist for dist in wmdistances2]"
   ]
  },
  {
   "cell_type": "code",
   "execution_count": 23,
   "id": "f09e1bb0",
   "metadata": {},
   "outputs": [
    {
     "data": {
      "text/plain": [
       "-0.30853318447232847"
      ]
     },
     "execution_count": 23,
     "metadata": {},
     "output_type": "execute_result"
    }
   ],
   "source": [
    "pearsonr(de_en['avg-score'], wmdistances2)[0]"
   ]
  },
  {
   "cell_type": "code",
   "execution_count": 24,
   "id": "f562584b",
   "metadata": {},
   "outputs": [
    {
     "data": {
      "text/plain": [
       "-0.2168328261851982"
      ]
     },
     "execution_count": 24,
     "metadata": {},
     "output_type": "execute_result"
    }
   ],
   "source": [
    "kendalltau(de_en['avg-score'], wmdistances2)[0]"
   ]
  },
  {
   "cell_type": "markdown",
   "id": "110753bd",
   "metadata": {},
   "source": [
    "#### Replace inf values by maximum/2"
   ]
  },
  {
   "cell_type": "code",
   "execution_count": 57,
   "id": "0d0d7024",
   "metadata": {},
   "outputs": [],
   "source": [
    "wmdistances2 = [-1 if dist == np.inf else dist for dist in wmdistances]\n",
    "\n",
    "wmdistances2 = [(max_dist/2) if dist == -1 else dist for dist in wmdistances2]"
   ]
  },
  {
   "cell_type": "code",
   "execution_count": 26,
   "id": "8e448a81",
   "metadata": {},
   "outputs": [
    {
     "data": {
      "text/plain": [
       "-0.30882340005334613"
      ]
     },
     "execution_count": 26,
     "metadata": {},
     "output_type": "execute_result"
    }
   ],
   "source": [
    "pearsonr(de_en['avg-score'], wmdistances2)[0]"
   ]
  },
  {
   "cell_type": "markdown",
   "id": "c4e7536d",
   "metadata": {},
   "source": [
    "-0.30882340005334613"
   ]
  },
  {
   "cell_type": "code",
   "execution_count": 27,
   "id": "01cf7348",
   "metadata": {},
   "outputs": [
    {
     "data": {
      "text/plain": [
       "-0.2168229814123602"
      ]
     },
     "execution_count": 27,
     "metadata": {},
     "output_type": "execute_result"
    }
   ],
   "source": [
    "kendalltau(de_en['avg-score'], wmdistances2)[0]"
   ]
  },
  {
   "cell_type": "markdown",
   "id": "1df2104c",
   "metadata": {},
   "source": [
    "-0.2168229814123602"
   ]
  },
  {
   "cell_type": "markdown",
   "id": "f13390d5",
   "metadata": {},
   "source": [
    "#### Find optimal q for replacing inf values by maximum/q"
   ]
  },
  {
   "cell_type": "code",
   "execution_count": 30,
   "id": "8ffd7386",
   "metadata": {},
   "outputs": [],
   "source": [
    "wmdistances2 = [-1 if dist == np.inf else dist for dist in wmdistances]\n",
    "max_dist = max(wmdistances2)\n",
    "\n",
    "Ps = []\n",
    "Ks = []\n",
    "\n",
    "for q in np.arange(1,10.1,0.1):\n",
    "    wmdistances3 = [(max_dist/q) if dist == -1 else dist for dist in wmdistances2]\n",
    "    p = pearsonr(de_en['avg-score'], wmdistances3)[0]\n",
    "    k = kendalltau(de_en['avg-score'], wmdistances3)[0]\n",
    "    Ps.append(p)\n",
    "    Ks.append(k)"
   ]
  },
  {
   "cell_type": "code",
   "execution_count": 31,
   "id": "fa3e7edd",
   "metadata": {},
   "outputs": [
    {
     "data": {
      "text/plain": [
       "[<matplotlib.lines.Line2D at 0x7fcc5eda75b0>]"
      ]
     },
     "execution_count": 31,
     "metadata": {},
     "output_type": "execute_result"
    },
    {
     "data": {
      "image/png": "[encoded data removed]",
      "text/plain": [
       "<Figure size 432x288 with 1 Axes>"
      ]
     },
     "metadata": {
      "needs_background": "light"
     },
     "output_type": "display_data"
    }
   ],
   "source": [
    "plt.plot(Ps)"
   ]
  },
  {
   "cell_type": "code",
   "execution_count": 32,
   "id": "257f411d",
   "metadata": {},
   "outputs": [
    {
     "data": {
      "text/plain": [
       "[<matplotlib.lines.Line2D at 0x7fcc5ed5bf70>]"
      ]
     },
     "execution_count": 32,
     "metadata": {},
     "output_type": "execute_result"
    },
    {
     "data": {
      "image/png": "[encoded data removed]",
      "text/plain": [
       "<Figure size 432x288 with 1 Axes>"
      ]
     },
     "metadata": {
      "needs_background": "light"
     },
     "output_type": "display_data"
    }
   ],
   "source": [
    "plt.plot(Ks)"
   ]
  },
  {
   "cell_type": "code",
   "execution_count": 44,
   "id": "f4f1105a",
   "metadata": {},
   "outputs": [
    {
     "data": {
      "text/plain": [
       "[5]"
      ]
     },
     "execution_count": 44,
     "metadata": {},
     "output_type": "execute_result"
    }
   ],
   "source": [
    "temp = min(Ps)\n",
    "opt_index = [i for i, j in enumerate(Ps) if j == temp]\n",
    "opt_index"
   ]
  },
  {
   "cell_type": "code",
   "execution_count": 45,
   "id": "9ce2df77",
   "metadata": {},
   "outputs": [
    {
     "data": {
      "text/plain": [
       "array([1.5])"
      ]
     },
     "execution_count": 45,
     "metadata": {},
     "output_type": "execute_result"
    }
   ],
   "source": [
    "np.arange(1,10.1,0.1)[opt_index]"
   ]
  },
  {
   "cell_type": "code",
   "execution_count": 46,
   "id": "8e240161",
   "metadata": {},
   "outputs": [
    {
     "data": {
      "text/plain": [
       "-0.3088945388262984"
      ]
     },
     "execution_count": 46,
     "metadata": {},
     "output_type": "execute_result"
    }
   ],
   "source": [
    "Ps[opt_index[0]]"
   ]
  },
  {
   "cell_type": "markdown",
   "id": "bc4685a2",
   "metadata": {},
   "source": [
    "## With q=1.5 and all language pairs"
   ]
  },
  {
   "cell_type": "code",
   "execution_count": 19,
   "id": "e54564ff",
   "metadata": {},
   "outputs": [
    {
     "data": {
      "application/vnd.jupyter.widget-view+json": {
       "model_id": "b7de9f5a36dd435c95adc8947dec8b39",
       "version_major": 2,
       "version_minor": 0
      },
      "text/plain": [
       "  0%|          | 0/11585 [00:00<?, ?it/s]"
      ]
     },
     "metadata": {},
     "output_type": "display_data"
    },
    {
     "name": "stdout",
     "output_type": "stream",
     "text": [
      "cs_en\n",
      "Pearson: -0.46030126797586646\n",
      "Kendall: -0.30940181633936314\n"
     ]
    },
    {
     "data": {
      "application/vnd.jupyter.widget-view+json": {
       "model_id": "60f10577ea59426596c4058dc5b7ecb8",
       "version_major": 2,
       "version_minor": 0
      },
      "text/plain": [
       "  0%|          | 0/21704 [00:00<?, ?it/s]"
      ]
     },
     "metadata": {},
     "output_type": "display_data"
    },
    {
     "name": "stdout",
     "output_type": "stream",
     "text": [
      "de_en\n",
      "Pearson: -0.3471321877208495\n",
      "Kendall: -0.23635952775834046\n"
     ]
    },
    {
     "data": {
      "application/vnd.jupyter.widget-view+json": {
       "model_id": "11b967c405b84f898e7253ec847d82ce",
       "version_major": 2,
       "version_minor": 0
      },
      "text/plain": [
       "  0%|          | 0/6748 [00:00<?, ?it/s]"
      ]
     },
     "metadata": {},
     "output_type": "display_data"
    },
    {
     "name": "stdout",
     "output_type": "stream",
     "text": [
      "en_fi\n",
      "Pearson: -0.34750622916088814\n",
      "Kendall: -0.23649325036411972\n"
     ]
    },
    {
     "data": {
      "application/vnd.jupyter.widget-view+json": {
       "model_id": "8abec20363cb4928b9b8ea409a612bdb",
       "version_major": 2,
       "version_minor": 0
      },
      "text/plain": [
       "  0%|          | 0/10221 [00:00<?, ?it/s]"
      ]
     },
     "metadata": {},
     "output_type": "display_data"
    },
    {
     "name": "stdout",
     "output_type": "stream",
     "text": [
      "en_zh\n",
      "Pearson: -0.00335960895263772\n",
      "Kendall: 0.010059931927933443\n"
     ]
    },
    {
     "data": {
      "application/vnd.jupyter.widget-view+json": {
       "model_id": "6359426153f74d248b97ae75052783ff",
       "version_major": 2,
       "version_minor": 0
      },
      "text/plain": [
       "  0%|          | 0/17980 [00:00<?, ?it/s]"
      ]
     },
     "metadata": {},
     "output_type": "display_data"
    },
    {
     "name": "stdout",
     "output_type": "stream",
     "text": [
      "ru_en\n",
      "Pearson: -0.35268581593319714\n",
      "Kendall: -0.23904526297449227\n"
     ]
    },
    {
     "data": {
      "application/vnd.jupyter.widget-view+json": {
       "model_id": "e6b8f43d97ac4312a8142695a94c7c7c",
       "version_major": 2,
       "version_minor": 0
      },
      "text/plain": [
       "  0%|          | 0/26419 [00:00<?, ?it/s]"
      ]
     },
     "metadata": {},
     "output_type": "display_data"
    },
    {
     "name": "stdout",
     "output_type": "stream",
     "text": [
      "zh_en\n",
      "Pearson: -0.34486008737468143\n",
      "Kendall: -0.22740271858832356\n"
     ]
    }
   ],
   "source": [
    "for i, data in enumerate(data_list):\n",
    "\n",
    "    wmdistances = []\n",
    "\n",
    "    for row in tqdm(range(data.shape[0])):\n",
    "\n",
    "        s1 = data.iloc[row,1]\n",
    "        s2 = data.iloc[row,2]\n",
    "\n",
    "        s1 = s1.lower()\n",
    "        s1 = re.sub(\"[^a-z]\", ' ', s1)\n",
    "        s1 = s1.split()\n",
    "\n",
    "        s2 = s2.lower()\n",
    "        s2 = re.sub(\"[^a-z]\", ' ', s2)\n",
    "        s2 = s2.split()\n",
    "\n",
    "        wmdistance = my_model.wmdistance(s1, s2)\n",
    "        wmdistances.append(wmdistance)\n",
    "        \n",
    "    wmdistances2 = [-1 if dist == np.inf else dist for dist in wmdistances]\n",
    "    \n",
    "    max_dist = max(wmdistances2)\n",
    "\n",
    "    wmdistances2 = [(max_dist/1.5) if dist == -1 else dist for dist in wmdistances2]\n",
    "    \n",
    "    print(names_list[i])\n",
    "\n",
    "    print('Pearson:', pearsonr(data['z-score'], wmdistances2)[0])\n",
    "\n",
    "    print('Kendall:', kendalltau(data['z-score'], wmdistances2)[0])"
   ]
  },
  {
   "cell_type": "code",
   "execution_count": 14,
   "id": "03c9ddb2",
   "metadata": {},
   "outputs": [
    {
     "data": {
      "application/vnd.jupyter.widget-view+json": {
       "model_id": "ecf2b6848b7e4a1ebff9011ff10c7379",
       "version_major": 2,
       "version_minor": 0
      },
      "text/plain": [
       "  0%|          | 0/11585 [00:00<?, ?it/s]"
      ]
     },
     "metadata": {},
     "output_type": "display_data"
    },
    {
     "name": "stdout",
     "output_type": "stream",
     "text": [
      "cs_en\n",
      "Pearson: -0.42960280668318424\n",
      "Kendall: -0.2943086361107622\n"
     ]
    },
    {
     "data": {
      "application/vnd.jupyter.widget-view+json": {
       "model_id": "a8a66f5d85ca4d6db344b39f02d1bcce",
       "version_major": 2,
       "version_minor": 0
      },
      "text/plain": [
       "  0%|          | 0/21704 [00:00<?, ?it/s]"
      ]
     },
     "metadata": {},
     "output_type": "display_data"
    },
    {
     "name": "stdout",
     "output_type": "stream",
     "text": [
      "de_en\n",
      "Pearson: -0.3088945388262984\n",
      "Kendall: -0.21683194616228435\n"
     ]
    },
    {
     "data": {
      "application/vnd.jupyter.widget-view+json": {
       "model_id": "08ede6bd7391403a8c1ae949494c741d",
       "version_major": 2,
       "version_minor": 0
      },
      "text/plain": [
       "  0%|          | 0/6748 [00:00<?, ?it/s]"
      ]
     },
     "metadata": {},
     "output_type": "display_data"
    },
    {
     "name": "stdout",
     "output_type": "stream",
     "text": [
      "en_fi\n",
      "Pearson: -0.327685921486173\n",
      "Kendall: -0.22875147029027298\n"
     ]
    },
    {
     "data": {
      "application/vnd.jupyter.widget-view+json": {
       "model_id": "5400ebd1d85d43e2bb0b90996e7727af",
       "version_major": 2,
       "version_minor": 0
      },
      "text/plain": [
       "  0%|          | 0/10221 [00:00<?, ?it/s]"
      ]
     },
     "metadata": {},
     "output_type": "display_data"
    },
    {
     "name": "stdout",
     "output_type": "stream",
     "text": [
      "en_zh\n",
      "Pearson: -0.006933625120976233\n",
      "Kendall: 0.006414615972311196\n"
     ]
    },
    {
     "data": {
      "application/vnd.jupyter.widget-view+json": {
       "model_id": "ce4d056b367b444d8b67206ab019ee3d",
       "version_major": 2,
       "version_minor": 0
      },
      "text/plain": [
       "  0%|          | 0/17980 [00:00<?, ?it/s]"
      ]
     },
     "metadata": {},
     "output_type": "display_data"
    },
    {
     "name": "stdout",
     "output_type": "stream",
     "text": [
      "ru_en\n",
      "Pearson: -0.30654752716016337\n",
      "Kendall: -0.2136593066443208\n"
     ]
    },
    {
     "data": {
      "application/vnd.jupyter.widget-view+json": {
       "model_id": "7c24127d4fad4390b3f4ace1437281e0",
       "version_major": 2,
       "version_minor": 0
      },
      "text/plain": [
       "  0%|          | 0/26419 [00:00<?, ?it/s]"
      ]
     },
     "metadata": {},
     "output_type": "display_data"
    },
    {
     "name": "stdout",
     "output_type": "stream",
     "text": [
      "zh_en\n",
      "Pearson: -0.2972245166797449\n",
      "Kendall: -0.19566544617853907\n"
     ]
    }
   ],
   "source": [
    "for i, data in enumerate(data_list):\n",
    "\n",
    "    wmdistances = []\n",
    "\n",
    "    for row in tqdm(range(data.shape[0])):\n",
    "\n",
    "        s1 = data.iloc[row,1]\n",
    "        s2 = data.iloc[row,2]\n",
    "\n",
    "        s1 = s1.lower()\n",
    "        s1 = re.sub(\"[^a-z]\", ' ', s1)\n",
    "        s1 = s1.split()\n",
    "\n",
    "        s2 = s2.lower()\n",
    "        s2 = re.sub(\"[^a-z]\", ' ', s2)\n",
    "        s2 = s2.split()\n",
    "\n",
    "        wmdistance = my_model.wmdistance(s1, s2)\n",
    "        wmdistances.append(wmdistance)\n",
    "        \n",
    "    wmdistances2 = [-1 if dist == np.inf else dist for dist in wmdistances]\n",
    "    \n",
    "    max_dist = max(wmdistances2)\n",
    "\n",
    "    wmdistances2 = [(max_dist/1.5) if dist == -1 else dist for dist in wmdistances2]\n",
    "    \n",
    "    print(names_list[i])\n",
    "\n",
    "    print('Pearson:', pearsonr(data['avg-score'], wmdistances2)[0])\n",
    "\n",
    "    print('Kendall:', kendalltau(data['avg-score'], wmdistances2)[0])"
   ]
  },
  {
   "cell_type": "markdown",
   "id": "78991a27",
   "metadata": {},
   "source": [
    "cs_en\n",
    "Pearson: -0.4302867109402357\n",
    "Kendall: -0.2946087295081448\n",
    "\n",
    "de_en\n",
    "Pearson: -0.3082085182870933\n",
    "Kendall: -0.21652481793587566\n",
    "\n",
    "en_fi\n",
    "Pearson: -0.3585093522404916\n",
    "Kendall: -0.2424647181157597\n",
    "\n",
    "en_zh\n",
    "Pearson: -0.05633962440065445\n",
    "Kendall: -0.04644650615293067\n",
    "\n",
    "ru_en\n",
    "Pearson: -0.30558847639136544\n",
    "Kendall: -0.21335539304562018\n",
    "\n",
    "zh_en\n",
    "Pearson: -0.2973579205432469\n",
    "Kendall: -0.19579630984661323"
   ]
  },
  {
   "cell_type": "markdown",
   "id": "8f60dc71",
   "metadata": {},
   "source": [
    "# Using Embedding word2vec-google-news-300\n",
    "https://code.google.com/archive/p/word2vec/"
   ]
  },
  {
   "cell_type": "code",
   "execution_count": 6,
   "id": "61a4c2e1",
   "metadata": {},
   "outputs": [
    {
     "name": "stdout",
     "output_type": "stream",
     "text": [
      "[==================================================] 100.0% 1662.8/1662.8MB downloaded\n"
     ]
    }
   ],
   "source": [
    "import gensim.downloader as api\n",
    "\n",
    "wv = api.load('word2vec-google-news-300')\n",
    "\n",
    "vec_king = wv['king']"
   ]
  },
  {
   "cell_type": "code",
   "execution_count": 36,
   "id": "aa544fc5",
   "metadata": {},
   "outputs": [],
   "source": [
    "s1 = 'Obama speaks to the media in Chicago'.lower().split()\n",
    "s2 = 'The president spoke to the press in Chicago'.lower().split()"
   ]
  },
  {
   "cell_type": "code",
   "execution_count": 37,
   "id": "0d2d0be5",
   "metadata": {},
   "outputs": [
    {
     "data": {
      "text/plain": [
       "0.5936775775354225"
      ]
     },
     "execution_count": 37,
     "metadata": {},
     "output_type": "execute_result"
    }
   ],
   "source": [
    "wv.wmdistance(s1,s2)"
   ]
  },
  {
   "cell_type": "code",
   "execution_count": 39,
   "id": "3eee618d",
   "metadata": {},
   "outputs": [
    {
     "data": {
      "application/vnd.jupyter.widget-view+json": {
       "model_id": "122aa627e70846b3a224e7ba7eb1ed11",
       "version_major": 2,
       "version_minor": 0
      },
      "text/plain": [
       "  0%|          | 0/21704 [00:00<?, ?it/s]"
      ]
     },
     "metadata": {},
     "output_type": "display_data"
    },
    {
     "name": "stderr",
     "output_type": "stream",
     "text": [
      "WARNING:gensim.models.keyedvectors:At least one of the documents had no words that were in the vocabulary.\n",
      "WARNING:gensim.models.keyedvectors:At least one of the documents had no words that were in the vocabulary.\n",
      "WARNING:gensim.models.keyedvectors:At least one of the documents had no words that were in the vocabulary.\n",
      "WARNING:gensim.models.keyedvectors:At least one of the documents had no words that were in the vocabulary.\n",
      "WARNING:gensim.models.keyedvectors:At least one of the documents had no words that were in the vocabulary.\n",
      "WARNING:gensim.models.keyedvectors:At least one of the documents had no words that were in the vocabulary.\n",
      "WARNING:gensim.models.keyedvectors:At least one of the documents had no words that were in the vocabulary.\n"
     ]
    }
   ],
   "source": [
    "data = de_en\n",
    "\n",
    "wmdistances = []\n",
    "\n",
    "for row in tqdm(range(data.shape[0])):\n",
    "    \n",
    "    s1 = data.iloc[row,1]\n",
    "    s2 = data.iloc[row,2]\n",
    "    \n",
    "    s1 = s1.lower()\n",
    "    s1 = re.sub(\"[^a-z]\", ' ', s1)\n",
    "    s1 = s1.split()\n",
    "    \n",
    "    s2 = s2.lower()\n",
    "    s2 = re.sub(\"[^a-z]\", ' ', s2)\n",
    "    s2 = s2.split()\n",
    "    \n",
    "    wmdistance = wv.wmdistance(s1, s2)\n",
    "    wmdistances.append(wmdistance)"
   ]
  },
  {
   "cell_type": "code",
   "execution_count": 44,
   "id": "641ae278",
   "metadata": {},
   "outputs": [
    {
     "data": {
      "text/plain": [
       "0.0"
      ]
     },
     "execution_count": 44,
     "metadata": {},
     "output_type": "execute_result"
    }
   ],
   "source": [
    "min(wmdistances)"
   ]
  },
  {
   "cell_type": "code",
   "execution_count": 45,
   "id": "76944f51",
   "metadata": {},
   "outputs": [
    {
     "data": {
      "text/plain": [
       "inf"
      ]
     },
     "execution_count": 45,
     "metadata": {},
     "output_type": "execute_result"
    }
   ],
   "source": [
    "max(wmdistances)"
   ]
  },
  {
   "cell_type": "code",
   "execution_count": 50,
   "id": "1783777a",
   "metadata": {},
   "outputs": [],
   "source": [
    "wmdistances2 = [-1 if dist == np.inf else dist for dist in wmdistances]\n",
    "max_dist = max(wmdistances2)\n",
    "\n",
    "Ps = []\n",
    "Ks = []\n",
    "\n",
    "for q in np.arange(1,10.1,0.1):\n",
    "    wmdistances3 = [(max_dist/q) if dist == -1 else dist for dist in wmdistances2]\n",
    "    p = pearsonr(de_en['avg-score'], wmdistances3)[0]\n",
    "    k = kendalltau(de_en['avg-score'], wmdistances3)[0]\n",
    "    Ps.append(p)\n",
    "    Ks.append(k)"
   ]
  },
  {
   "cell_type": "code",
   "execution_count": 51,
   "id": "0b679ba8",
   "metadata": {},
   "outputs": [
    {
     "data": {
      "text/plain": [
       "[<matplotlib.lines.Line2D at 0x7fe06fe90af0>]"
      ]
     },
     "execution_count": 51,
     "metadata": {},
     "output_type": "execute_result"
    },
    {
     "data": {
      "image/png": "[encoded data removed]",
      "text/plain": [
       "<Figure size 432x288 with 1 Axes>"
      ]
     },
     "metadata": {
      "needs_background": "light"
     },
     "output_type": "display_data"
    }
   ],
   "source": [
    "plt.plot(Ps)"
   ]
  },
  {
   "cell_type": "code",
   "execution_count": 52,
   "id": "b690690d",
   "metadata": {},
   "outputs": [
    {
     "data": {
      "text/plain": [
       "[<matplotlib.lines.Line2D at 0x7fe071764b80>]"
      ]
     },
     "execution_count": 52,
     "metadata": {},
     "output_type": "execute_result"
    },
    {
     "data": {
      "image/png": "[encoded data removed]",
      "text/plain": [
       "<Figure size 432x288 with 1 Axes>"
      ]
     },
     "metadata": {
      "needs_background": "light"
     },
     "output_type": "display_data"
    }
   ],
   "source": [
    "plt.plot(Ks)"
   ]
  },
  {
   "cell_type": "code",
   "execution_count": 53,
   "id": "775d7666",
   "metadata": {},
   "outputs": [
    {
     "data": {
      "text/plain": [
       "[3]"
      ]
     },
     "execution_count": 53,
     "metadata": {},
     "output_type": "execute_result"
    }
   ],
   "source": [
    "temp = min(Ps)\n",
    "opt_index = [i for i, j in enumerate(Ps) if j == temp]\n",
    "opt_index"
   ]
  },
  {
   "cell_type": "code",
   "execution_count": 54,
   "id": "f4c8654d",
   "metadata": {},
   "outputs": [
    {
     "data": {
      "text/plain": [
       "array([1.3])"
      ]
     },
     "execution_count": 54,
     "metadata": {},
     "output_type": "execute_result"
    }
   ],
   "source": [
    "np.arange(1,10.1,0.1)[opt_index]"
   ]
  },
  {
   "cell_type": "code",
   "execution_count": 55,
   "id": "e2344f3e",
   "metadata": {},
   "outputs": [
    {
     "data": {
      "text/plain": [
       "-0.3015451610466434"
      ]
     },
     "execution_count": 55,
     "metadata": {},
     "output_type": "execute_result"
    }
   ],
   "source": [
    "Ps[opt_index[0]]"
   ]
  },
  {
   "cell_type": "code",
   "execution_count": null,
   "id": "8e9d1700",
   "metadata": {},
   "outputs": [],
   "source": []
  },
  {
   "cell_type": "code",
   "execution_count": null,
   "id": "a1264239",
   "metadata": {},
   "outputs": [],
   "source": []
  },
  {
   "cell_type": "code",
   "execution_count": null,
   "id": "f092e6ff",
   "metadata": {},
   "outputs": [],
   "source": []
  },
  {
   "cell_type": "code",
   "execution_count": null,
   "id": "ab38a0de",
   "metadata": {},
   "outputs": [],
   "source": []
  },
  {
   "cell_type": "code",
   "execution_count": null,
   "id": "e73264a3",
   "metadata": {},
   "outputs": [],
   "source": []
  },
  {
   "cell_type": "markdown",
   "id": "97ef03e7",
   "metadata": {},
   "source": [
    "# BERTScore\n",
    "https://pypi.org/project/bert-score/"
   ]
  },
  {
   "cell_type": "code",
   "execution_count": 48,
   "id": "7d5a2529",
   "metadata": {},
   "outputs": [],
   "source": [
    "#!pip install bert-score"
   ]
  },
  {
   "cell_type": "code",
   "execution_count": 1,
   "id": "d175ebc6",
   "metadata": {},
   "outputs": [],
   "source": [
    "from bert_score import score"
   ]
  },
  {
   "cell_type": "code",
   "execution_count": null,
   "id": "381e1762",
   "metadata": {},
   "outputs": [],
   "source": [
    "# Kernes dies when running this\n",
    "\n",
    "s1 = ['Obama speaks to the media in Chicago'.lower()]\n",
    "s2 = ['The president spoke to the press in Chicago'.lower()]\n",
    "\n",
    "P, R, F1 = score(cands, refs, lang=\"en\", verbose=True)"
   ]
  },
  {
   "cell_type": "code",
   "execution_count": null,
   "id": "c292e314",
   "metadata": {},
   "outputs": [],
   "source": []
  }
 ],
 "metadata": {
  "kernelspec": {
   "display_name": "Python 3",
   "language": "python",
   "name": "python3"
  },
  "language_info": {
   "codemirror_mode": {
    "name": "ipython",
    "version": 3
   },
   "file_extension": ".py",
   "mimetype": "text/x-python",
   "name": "python",
   "nbconvert_exporter": "python",
   "pygments_lexer": "ipython3",
   "version": "3.8.8"
  }
 },
 "nbformat": 4,
 "nbformat_minor": 5
}
